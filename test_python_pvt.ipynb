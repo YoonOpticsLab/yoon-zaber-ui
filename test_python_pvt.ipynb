{
 "cells": [
  {
   "cell_type": "code",
   "execution_count": 2,
   "id": "4d0ed514",
   "metadata": {},
   "outputs": [
    {
     "name": "stdout",
     "output_type": "stream",
     "text": [
      "%pylab is deprecated, use %matplotlib inline and import the required libraries.\n",
      "Populating the interactive namespace from numpy and matplotlib\n"
     ]
    }
   ],
   "source": [
    "%pylab inline"
   ]
  },
  {
   "cell_type": "code",
   "execution_count": 3,
   "id": "87524a6b",
   "metadata": {},
   "outputs": [],
   "source": [
    "from zaber_motion import Units, Library, Measurement\n",
    "from zaber_motion.ascii import Connection, AllAxes\n",
    "from zaber_motion import *\n",
    "import pandas as pd"
   ]
  },
  {
   "cell_type": "code",
   "execution_count": 4,
   "id": "cb7ae885",
   "metadata": {},
   "outputs": [
    {
     "name": "stdout",
     "output_type": "stream",
     "text": [
      "Found 1 devices\n"
     ]
    }
   ],
   "source": [
    "Library.enable_device_db_store()\n",
    "connection=Connection.open_serial_port(\"COM4\")  # confirm that this is the right serial port\n",
    "\n",
    "device_list = connection.detect_devices()\n",
    "print(\"Found {} devices\".format(len(device_list)))\n",
    "\n",
    "device1 = device_list[0] "
   ]
  },
  {
   "cell_type": "code",
   "execution_count": 5,
   "id": "6dd9e5f2",
   "metadata": {},
   "outputs": [],
   "source": [
    "# !python -m pip install -U zaber_motion"
   ]
  },
  {
   "cell_type": "code",
   "execution_count": 6,
   "id": "e4d05caf",
   "metadata": {},
   "outputs": [
    {
     "name": "stdout",
     "output_type": "stream",
     "text": [
      "    Time(s) Velocity (mm/s)  Degrees  Displacement(mm)\n",
      "0       0.3               0    -38.4         19.467589\n",
      "5       0.3            None    -30.4         12.373770\n",
      "10      0.3            None    -22.4          6.790857\n",
      "15      0.3            None    -14.4          2.827515\n",
      "20      0.3            None     -6.4          0.560887\n",
      "25      0.3            None      1.6          0.035090\n",
      "30      0.3            None      9.6          1.260357\n",
      "35      0.3            None     17.6          4.212840\n",
      "40      0.3            None     25.6          8.835073\n",
      "45      0.3               0     33.6         15.037088\n"
     ]
    }
   ],
   "source": [
    "df_zlut=pd.read_excel('z_table.xlsx')\n",
    "df_zlut.head()\n",
    "\n",
    "NO_VELOCITY = True\n",
    "# True=Let Zaber figure out what the velocities should be\n",
    "# False=Use computed vels from xls. But the sign is important, unlike in xls.\n",
    "\n",
    "step_size=5 # Can go through subsets of table with larger #s\n",
    "idxs_subset=np.arange(0,50,step_size)\n",
    "df_zlut=df_zlut.iloc[idxs_subset,:]\n",
    "\n",
    "# Times are a period, not absolute time\n",
    "# Assume they are equally spaced in time, and use the first one.\n",
    "df_zlut.iloc[:,0]=np.diff( df_zlut.iloc[:,0] )[0]\n",
    "\n",
    "\n",
    "# https://software.zaber.com/motion-library/docs/guides/pvt: \n",
    "# Make the velocity of the last one zero: necessary, it seems !\n",
    "\n",
    "# Let Zaber figure out what the velocities should be\n",
    "if NO_VELOCITY:\n",
    "    df_zlut.iloc[:,1]=None\n",
    "    df_zlut.iloc[0,1]=0\n",
    "    df_zlut.iloc[-1,1]=0 #len(df_zlut.index),\"Velocity (mm/s)\"]=0\n",
    "\n",
    "    #df_zlut.iloc[df_zlut[\"Displacement(mm)\"]==0,1]=0\n",
    "print( df_zlut)"
   ]
  },
  {
   "cell_type": "code",
   "execution_count": 8,
   "id": "3037b0e2",
   "metadata": {},
   "outputs": [],
   "source": [
    "ax1_sweep_lims=[0,10] # mm\n",
    "ax3_sweep_lims=[10,0] # mm"
   ]
  },
  {
   "cell_type": "code",
   "execution_count": 12,
   "id": "45020d12",
   "metadata": {},
   "outputs": [
    {
     "name": "stdout",
     "output_type": "stream",
     "text": [
      "<zaber_motion.ascii.pvt_buffer.PvtBuffer object at 0x000002496FA96050>\n",
      "Device 1 -> PVT Sequence 1 (Disabled)\n",
      "['setup store 1 3', 'io set do 1 1', 'point abs p 0 39242 20157 v 0 0 0 t 300.0', 'io set do 1 0', 'point abs p 2240 24942 17918 v 12232 -69777 -12232 t 300.0', 'io set do 1 1', 'point abs p 4479 13689 15678 v 12232 -52546 -12232 t 300.0', 'io set do 1 0', 'point abs p 6719 5700 13438 v 12232 -34292 -12232 t 300.0', 'io set do 1 1', 'point abs p 8959 1131 11199 v 12232 -15370 -12232 t 300.0', 'io set do 1 0', 'point abs p 11199 71 8959 v 12232 3850 -12232 t 300.0', 'io set do 1 1', 'point abs p 13438 2541 6719 v 12232 22996 -12232 t 300.0', 'io set do 1 0', 'point abs p 15678 8492 4479 v 12232 41694 -12232 t 300.0', 'io set do 1 1', 'point abs p 17918 17809 2240 v 12232 59580 -12232 t 300.0', 'io set do 1 0', 'point abs p 20157 30311 0 v 0 0 0 t 300.0', 'io set do 1 0', 'setup disable']\n"
     ]
    }
   ],
   "source": [
    "#ax0=device1.get_axis(2)\n",
    "\n",
    "pvt = device1.get_pvt(1)\n",
    "pvt.disable()\n",
    "\n",
    "pvt_buffer = device1.get_pvt_buffer(1)\n",
    "pvt_buffer.erase()\n",
    "\n",
    "NDIMS=3\n",
    "arr_axes=np.arange(NDIMS)+1\n",
    "# set up PVT to store points to PVT buffer 1 and\n",
    "# to use the first axis for unit conversion\n",
    "pvt.setup_store(pvt_buffer, *arr_axes )\n",
    "\n",
    "# add PVT points from LUT in Excel file\n",
    "for index, row in df_zlut.iterrows():\n",
    "\n",
    "    # Add each point in a loop\n",
    "    if NDIMS==1:\n",
    "        poses=[Measurement(row[\"Displacement(mm)\"], Units.LENGTH_MILLIMETRES)]\n",
    "    elif NDIMS==2:\n",
    "        ax1_pos = ax1_sweep_lims[0] + (index)*(ax1_sweep_lims[1]-ax1_sweep_lims[0])/df_zlut.index[-1]\n",
    "        poses=[Measurement(ax1_pos, Units.LENGTH_MILLIMETRES),\n",
    "               Measurement(row[\"Displacement(mm)\"], Units.LENGTH_MILLIMETRES)]\n",
    "    else: # Assume 3\n",
    "        ax1_pos = ax1_sweep_lims[0] + (index)*(ax1_sweep_lims[1]-ax1_sweep_lims[0])/df_zlut.index[-1]\n",
    "        ax3_pos = ax3_sweep_lims[0] + (index)*(ax3_sweep_lims[1]-ax3_sweep_lims[0])/df_zlut.index[-1]\n",
    "        poses=[Measurement(ax1_pos, Units.LENGTH_MILLIMETRES),\n",
    "               Measurement(row[\"Displacement(mm)\"], Units.LENGTH_MILLIMETRES),\n",
    "               Measurement(ax3_pos, Units.LENGTH_MILLIMETRES) ];\n",
    "        \n",
    "    if row[\"Velocity (mm/s)\"] is None:\n",
    "        vels=[None]*NDIMS\n",
    "    else:\n",
    "        vels=[Measurement(row[\"Velocity (mm/s)\"], Units.VELOCITY_MILLIMETRES_PER_SECOND)]*NDIMS\n",
    "           \n",
    "    # Toggle the DIO (first channel): at 0 will be 1, at 1 will be 0, at 2 will be 1, etc..\n",
    "    # use +1 mod 2. TODO (this is pretty hacky and inflexible)\n",
    "    pvt.set_digital_output(1,(index+1)%2)\n",
    "    pvt.point(poses, vels , Measurement(row[\"Time(s)\"], Units.TIME_SECONDS) )\n",
    "    #time.sleep(0.01)\n",
    "pvt.set_digital_output(1,0)\n",
    "\n",
    "# finish writing to the buffer\n",
    "pvt.disable()\n",
    "\n",
    "print(pvt_buffer)\n",
    "print( pvt )\n",
    "print( pvt_buffer.get_content() )"
   ]
  },
  {
   "cell_type": "code",
   "execution_count": 18,
   "id": "b4726057",
   "metadata": {},
   "outputs": [],
   "source": [
    "# execute:\n",
    "pvt = device1.get_pvt(2)\n",
    "pvt.disable()\n",
    "pvt.setup_live(*arr_axes) # Execute on axis Z\n",
    "\n",
    "# the sequence will now execute the stored points\n",
    "pvt.call(pvt_buffer)\n",
    "\n",
    "#print (pvt."
   ]
  },
  {
   "cell_type": "code",
   "execution_count": 14,
   "id": "62f1e398",
   "metadata": {},
   "outputs": [],
   "source": [
    "axs=[device1.get_axis(n) for n in [1,2,3]]"
   ]
  },
  {
   "cell_type": "code",
   "execution_count": 17,
   "id": "91d94990",
   "metadata": {},
   "outputs": [],
   "source": [
    "axs[0].move_absolute(0)\n",
    "axs[1].move_absolute(40000)\n",
    "axs[2].move_absolute(20000)"
   ]
  },
  {
   "cell_type": "code",
   "execution_count": 239,
   "id": "7a37d2fe",
   "metadata": {},
   "outputs": [],
   "source": [
    "ax1.home()\n",
    "ax2.home()"
   ]
  },
  {
   "cell_type": "code",
   "execution_count": 246,
   "id": "73f70ede",
   "metadata": {},
   "outputs": [
    {
     "data": {
      "text/plain": [
       "[20157.0, 17809.0, 10.0]"
      ]
     },
     "execution_count": 246,
     "metadata": {},
     "output_type": "execute_result"
    }
   ],
   "source": [
    "[ax1.get_position() for ax1 in axs]"
   ]
  },
  {
   "cell_type": "code",
   "execution_count": 169,
   "id": "4f5ac812",
   "metadata": {},
   "outputs": [
    {
     "data": {
      "text/plain": [
       "'{\"context\":{\"v\":3,\"type\":\"peripheral\",\"fw\":{\"major\":7,\"minor\":33,\"build\":14091}},\"axis\":{\"peripheralId\":\"70131\",\"serial\":\"112556\",\"settings\":{\"cloop.continuous.enable\":\"0\",\"cloop.displace.tolerance\":\"128\",\"cloop.enable\":\"1\",\"cloop.recovery.enable\":\"0\",\"cloop.stall.action\":\"0\",\"cloop.stall.detect.mode\":\"0\",\"cloop.stall.tolerance\":\"512\",\"cloop.timeout\":\"100\",\"driver.current.hold\":\"35\",\"driver.current.run\":\"70\",\"ictrl.advance.a\":\"0.000000000\",\"ictrl.advance.offset\":\"4096.000000000\",\"ictrl.afcff.inductance\":\"0.088000000\",\"ictrl.afcff.ke\":\"7.781229568\",\"ictrl.afcff.ki\":\"0.000000000\",\"ictrl.afcff.max\":\"48000.000851968\",\"ictrl.afcff.ss\":\"0.000000000\",\"ictrl.afcff.ss.max\":\"0.999899840\",\"ictrl.ff.kd\":\"0.088000000\",\"ictrl.ff.kp\":\"0.000999999\",\"ictrl.gain.coldmult\":\"0.299999968\",\"ictrl.pi.ki\":\"0.000028998\",\"ictrl.pi.kp\":\"0.011596000\",\"ictrl.type\":\"6\",\"knob.dir\":\"0\",\"knob.distance\":\"640\",\"knob.enable\":\"1\",\"knob.maxspeed\":\"153600\",\"knob.mode\":\"0\",\"knob.speedprofile\":\"2\",\"limit.approach.maxspeed\":\"153600\",\"limit.detect.decelonly\":\"820\",\"limit.detect.maxspeed\":\"19200\",\"limit.home.action\":\"2\",\"limit.home.offset\":\"0\",\"limit.home.posupdate\":\"0\",\"limit.home.preset\":\"0\",\"limit.max\":\"154202\",\"limit.min\":\"0\",\"maxspeed\":\"153600\",\"motion.accel.ramptime\":\"0.0\",\"motion.accelonly\":\"205\",\"motion.decelonly\":\"205\",\"motion.index.dist\":\"64\",\"resolution\":\"64\"},\"storedPositions\":{\"1\":0,\"10\":0,\"11\":0,\"12\":0,\"13\":0,\"14\":0,\"15\":0,\"16\":0,\"2\":0,\"3\":0,\"4\":0,\"5\":0,\"6\":0,\"7\":0,\"8\":0,\"9\":0}}}'"
      ]
     },
     "execution_count": 169,
     "metadata": {},
     "output_type": "execute_result"
    }
   ],
   "source": [
    "ax1=device1.get_axis(1)\n",
    "ax1.get_state()"
   ]
  },
  {
   "cell_type": "code",
   "execution_count": 177,
   "id": "396e7075",
   "metadata": {},
   "outputs": [
    {
     "data": {
      "text/plain": [
       "'{\"context\":{\"v\":3,\"type\":\"peripheral\",\"fw\":{\"major\":7,\"minor\":33,\"build\":14091}},\"axis\":{\"peripheralId\":\"70134\",\"serial\":\"112555\",\"settings\":{\"cloop.continuous.enable\":\"0\",\"cloop.displace.tolerance\":\"128\",\"cloop.enable\":\"1\",\"cloop.recovery.enable\":\"0\",\"cloop.stall.action\":\"0\",\"cloop.stall.detect.mode\":\"0\",\"cloop.stall.tolerance\":\"512\",\"cloop.timeout\":\"100\",\"driver.current.hold\":\"35\",\"driver.current.run\":\"70\",\"ictrl.advance.a\":\"0.000000000\",\"ictrl.advance.offset\":\"4096.000000000\",\"ictrl.afcff.inductance\":\"0.088000000\",\"ictrl.afcff.ke\":\"7.781229568\",\"ictrl.afcff.ki\":\"0.000000000\",\"ictrl.afcff.max\":\"48000.000851968\",\"ictrl.afcff.ss\":\"0.000000000\",\"ictrl.afcff.ss.max\":\"0.999899840\",\"ictrl.ff.kd\":\"0.088000000\",\"ictrl.ff.kp\":\"0.000999999\",\"ictrl.gain.coldmult\":\"0.299999968\",\"ictrl.pi.ki\":\"0.000028998\",\"ictrl.pi.kp\":\"0.011596000\",\"ictrl.type\":\"6\",\"knob.dir\":\"0\",\"knob.distance\":\"640\",\"knob.enable\":\"1\",\"knob.maxspeed\":\"153600\",\"knob.mode\":\"0\",\"knob.speedprofile\":\"2\",\"limit.approach.maxspeed\":\"153600\",\"limit.detect.decelonly\":\"820\",\"limit.detect.maxspeed\":\"19200\",\"limit.home.action\":\"2\",\"limit.home.offset\":\"0\",\"limit.home.posupdate\":\"0\",\"limit.home.preset\":\"0\",\"limit.max\":\"305381\",\"limit.min\":\"0\",\"maxspeed\":\"153600\",\"motion.accel.ramptime\":\"0.0\",\"motion.accelonly\":\"205\",\"motion.decelonly\":\"205\",\"motion.index.dist\":\"64\",\"resolution\":\"64\"},\"storedPositions\":{\"1\":0,\"10\":0,\"11\":0,\"12\":0,\"13\":0,\"14\":0,\"15\":0,\"16\":0,\"2\":0,\"3\":0,\"4\":0,\"5\":0,\"6\":0,\"7\":0,\"8\":0,\"9\":0}}}'"
      ]
     },
     "execution_count": 177,
     "metadata": {},
     "output_type": "execute_result"
    }
   ],
   "source": [
    "ax3=device1.get_axis(3)\n",
    "ax3.get_state()\n",
    "\n",
    "print ()"
   ]
  },
  {
   "cell_type": "code",
   "execution_count": 178,
   "id": "aa42e360",
   "metadata": {},
   "outputs": [],
   "source": [
    "ax3.home()"
   ]
  },
  {
   "cell_type": "code",
   "execution_count": 180,
   "id": "1a1c2fe1",
   "metadata": {},
   "outputs": [],
   "source": [
    "ax3.move_absolute(10)"
   ]
  },
  {
   "cell_type": "code",
   "execution_count": null,
   "id": "1c4e4573",
   "metadata": {},
   "outputs": [],
   "source": []
  }
 ],
 "metadata": {
  "kernelspec": {
   "display_name": "Python 3 (ipykernel)",
   "language": "python",
   "name": "python3"
  },
  "language_info": {
   "codemirror_mode": {
    "name": "ipython",
    "version": 3
   },
   "file_extension": ".py",
   "mimetype": "text/x-python",
   "name": "python",
   "nbconvert_exporter": "python",
   "pygments_lexer": "ipython3",
   "version": "3.10.8"
  }
 },
 "nbformat": 4,
 "nbformat_minor": 5
}
