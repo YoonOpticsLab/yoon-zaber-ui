{
 "cells": [
  {
   "cell_type": "code",
   "execution_count": 1,
   "id": "097ed27c",
   "metadata": {},
   "outputs": [],
   "source": [
    "%load_ext autoreload\n",
    "%autoreload 2\n",
    "\n",
    "import zaber_pvt"
   ]
  },
  {
   "cell_type": "code",
   "execution_count": 2,
   "id": "c35531a8",
   "metadata": {},
   "outputs": [
    {
     "name": "stdout",
     "output_type": "stream",
     "text": [
      "Found 3 devices\n"
     ]
    }
   ],
   "source": [
    "zpvt=zaber_pvt.ZaberPVT()\n",
    "zpvt.connect()"
   ]
  },
  {
   "cell_type": "code",
   "execution_count": 43,
   "id": "00cd5481",
   "metadata": {},
   "outputs": [
    {
     "name": "stdout",
     "output_type": "stream",
     "text": [
      "0 45\n",
      "5 45\n",
      "10 45\n",
      "15 45\n",
      "20 45\n",
      "25 45\n",
      "30 45\n",
      "35 45\n",
      "40 45\n",
      "45 45\n"
     ]
    }
   ],
   "source": [
    "zpvt.setup_zlut()"
   ]
  },
  {
   "cell_type": "code",
   "execution_count": 27,
   "id": "d9032d34",
   "metadata": {},
   "outputs": [],
   "source": [
    "zpvt.home3()"
   ]
  },
  {
   "cell_type": "code",
   "execution_count": 44,
   "id": "0594071e",
   "metadata": {},
   "outputs": [
    {
     "name": "stdout",
     "output_type": "stream",
     "text": [
      "[[{'_value': 0, '_unit': <Units.LENGTH_MILLIMETRES: 'Length:millimetres'>}, {'_value': 21.056000119292, '_unit': <Units.LENGTH_MILLIMETRES: 'Length:millimetres'>}, {'_value': 10, '_unit': <Units.LENGTH_MILLIMETRES: 'Length:millimetres'>}], [None, None, None], {'_value': 2.0, '_unit': <Units.TIME_SECONDS: 'Time:seconds'>}]\n",
      "\n",
      "['setup store 1 3', 'io set do 1 1', 'point abs p 403 39242 19754 v 0 0 0 t 60.0', 'io set do 1 0', 'point abs p 2419 24942 17739 v 55043 -348885 -55043 t 60.0', 'io set do 1 1', 'point abs p 4435 13689 15723 v 55043 -262729 -55043 t 60.0', 'io set do 1 0', 'point abs p 6450 5700 13707 v 55043 -171459 -55043 t 60.0', 'io set do 1 1', 'point abs p 8466 1131 11691 v 55043 -76852 -55043 t 60.0', 'io set do 1 0', 'point abs p 10482 71 9676 v 55043 19251 -55043 t 60.0', 'io set do 1 1', 'point abs p 12498 2541 7660 v 55043 114979 -55043 t 60.0', 'io set do 1 0', 'point abs p 14513 8492 5644 v 55043 208469 -55043 t 60.0', 'io set do 1 1', 'point abs p 16529 17809 3628 v 55043 297901 -55043 t 60.0', 'io set do 1 0', 'setup disable']\n"
     ]
    }
   ],
   "source": [
    "print( zpvt.start_pos, end='\\n\\n' )\n",
    "print( zpvt.pvt_buffer.get_content() )"
   ]
  },
  {
   "cell_type": "code",
   "execution_count": 45,
   "id": "916075e1",
   "metadata": {},
   "outputs": [],
   "source": [
    "zpvt.live_pvt.point(*zpvt.start_pos)\n",
    "zpvt.devices[2].get_axis(1).move_absolute(0)"
   ]
  },
  {
   "cell_type": "code",
   "execution_count": 46,
   "id": "c0c3b8dd",
   "metadata": {},
   "outputs": [
    {
     "ename": "InvalidOperationException",
     "evalue": "InvalidOperationException: Cannot perform the action because the PVT sequence has queued points for calculation. The action could potentially result in an incorrect result of the calculation.",
     "output_type": "error",
     "traceback": [
      "\u001b[1;31m---------------------------------------------------------------------------\u001b[0m",
      "\u001b[1;31mInvalidOperationException\u001b[0m                 Traceback (most recent call last)",
      "Cell \u001b[1;32mIn[46], line 1\u001b[0m\n\u001b[1;32m----> 1\u001b[0m \u001b[43mzpvt\u001b[49m\u001b[38;5;241;43m.\u001b[39;49m\u001b[43mmove3\u001b[49m\u001b[43m(\u001b[49m\u001b[43m)\u001b[49m\n",
      "File \u001b[1;32m~\\Documents\\zaber-python\\zaber_pvt.py:127\u001b[0m, in \u001b[0;36mZaberPVT.move3\u001b[1;34m(self, amt_deg)\u001b[0m\n\u001b[0;32m    126\u001b[0m \u001b[38;5;28;01mdef\u001b[39;00m \u001b[38;5;21mmove3\u001b[39m(\u001b[38;5;28mself\u001b[39m, amt_deg\u001b[38;5;241m=\u001b[39m\u001b[38;5;241m45\u001b[39m):\n\u001b[1;32m--> 127\u001b[0m     \u001b[38;5;28;43mself\u001b[39;49m\u001b[38;5;241;43m.\u001b[39;49m\u001b[43mlive_pvt\u001b[49m\u001b[38;5;241;43m.\u001b[39;49m\u001b[43mcall\u001b[49m\u001b[43m(\u001b[49m\u001b[38;5;28;43mself\u001b[39;49m\u001b[38;5;241;43m.\u001b[39;49m\u001b[43mpvt_buffer\u001b[49m\u001b[43m)\u001b[49m\n\u001b[0;32m    128\u001b[0m     \u001b[38;5;28mself\u001b[39m\u001b[38;5;241m.\u001b[39mdevices[\u001b[38;5;241m2\u001b[39m]\u001b[38;5;241m.\u001b[39mget_axis(\u001b[38;5;241m1\u001b[39m)\u001b[38;5;241m.\u001b[39mmove_absolute(amt_deg, Units\u001b[38;5;241m.\u001b[39mANGLE_DEGREES,\n\u001b[0;32m    129\u001b[0m                                       velocity\u001b[38;5;241m=\u001b[39mamt_deg\u001b[38;5;241m/\u001b[39m\u001b[38;5;241m3.0\u001b[39m, velocity_unit\u001b[38;5;241m=\u001b[39mUnits\u001b[38;5;241m.\u001b[39mANGULAR_VELOCITY_DEGREES_PER_SECOND,\n\u001b[0;32m    130\u001b[0m                                       wait_until_idle\u001b[38;5;241m=\u001b[39m\u001b[38;5;28;01mFalse\u001b[39;00m)\n",
      "File \u001b[1;32m~\\miniconda3\\lib\\site-packages\\zaber_motion\\ascii\\pvt_sequence.py:234\u001b[0m, in \u001b[0;36mPvtSequence.call\u001b[1;34m(self, pvt_buffer)\u001b[0m\n\u001b[0;32m    232\u001b[0m request\u001b[38;5;241m.\u001b[39mpvt \u001b[38;5;241m=\u001b[39m \u001b[38;5;28;01mTrue\u001b[39;00m\n\u001b[0;32m    233\u001b[0m request\u001b[38;5;241m.\u001b[39mpvt_buffer \u001b[38;5;241m=\u001b[39m pvt_buffer\u001b[38;5;241m.\u001b[39mbuffer_id\n\u001b[1;32m--> 234\u001b[0m \u001b[43mcall\u001b[49m\u001b[43m(\u001b[49m\u001b[38;5;124;43m\"\u001b[39;49m\u001b[38;5;124;43mdevice/stream_call\u001b[39;49m\u001b[38;5;124;43m\"\u001b[39;49m\u001b[43m,\u001b[49m\u001b[43m \u001b[49m\u001b[43mrequest\u001b[49m\u001b[43m)\u001b[49m\n",
      "File \u001b[1;32m~\\miniconda3\\lib\\site-packages\\zaber_motion\\call.py:46\u001b[0m, in \u001b[0;36mcall\u001b[1;34m(request, data, response_data)\u001b[0m\n\u001b[0;32m     42\u001b[0m     \u001b[38;5;28;01mraise\u001b[39;00m \u001b[38;5;167;01mRuntimeError\u001b[39;00m(\u001b[38;5;124mf\u001b[39m\u001b[38;5;124m\"\u001b[39m\u001b[38;5;124mInvalid result code: \u001b[39m\u001b[38;5;132;01m{\u001b[39;00mresult\u001b[38;5;132;01m}\u001b[39;00m\u001b[38;5;124m\"\u001b[39m)\n\u001b[0;32m     44\u001b[0m response_buffers \u001b[38;5;241m=\u001b[39m promise\u001b[38;5;241m.\u001b[39mget()\n\u001b[1;32m---> 46\u001b[0m \u001b[43mprocess_response\u001b[49m\u001b[43m(\u001b[49m\u001b[43mresponse_buffers\u001b[49m\u001b[43m,\u001b[49m\u001b[43m \u001b[49m\u001b[43mresponse_data\u001b[49m\u001b[43m)\u001b[49m\n",
      "File \u001b[1;32m~\\miniconda3\\lib\\site-packages\\zaber_motion\\call.py:123\u001b[0m, in \u001b[0;36mprocess_response\u001b[1;34m(response_buffers, response_data)\u001b[0m\n\u001b[0;32m    121\u001b[0m     \u001b[38;5;28;01mif\u001b[39;00m \u001b[38;5;28mlen\u001b[39m(response_buffers) \u001b[38;5;241m>\u001b[39m \u001b[38;5;241m1\u001b[39m:\n\u001b[0;32m    122\u001b[0m         \u001b[38;5;28;01mraise\u001b[39;00m convert_exception(response_proto\u001b[38;5;241m.\u001b[39merror_type, response_proto\u001b[38;5;241m.\u001b[39merror_message, response_buffers[\u001b[38;5;241m1\u001b[39m])\n\u001b[1;32m--> 123\u001b[0m     \u001b[38;5;28;01mraise\u001b[39;00m convert_exception(response_proto\u001b[38;5;241m.\u001b[39merror_type, response_proto\u001b[38;5;241m.\u001b[39merror_message)\n\u001b[0;32m    125\u001b[0m \u001b[38;5;28;01mif\u001b[39;00m \u001b[38;5;28mlen\u001b[39m(response_buffers) \u001b[38;5;241m>\u001b[39m \u001b[38;5;241m1\u001b[39m:\n\u001b[0;32m    126\u001b[0m     \u001b[38;5;28;01mif\u001b[39;00m response_data \u001b[38;5;129;01mis\u001b[39;00m \u001b[38;5;28;01mNone\u001b[39;00m:\n",
      "\u001b[1;31mInvalidOperationException\u001b[0m: InvalidOperationException: Cannot perform the action because the PVT sequence has queued points for calculation. The action could potentially result in an incorrect result of the calculation."
     ]
    }
   ],
   "source": [
    "zpvt.move3()\n",
    "\n",
    "#/1 pvt 2 point abs p 0 39242 20157 v 0 0 0 t 1000"
   ]
  },
  {
   "cell_type": "code",
   "execution_count": 9,
   "id": "901df480",
   "metadata": {},
   "outputs": [
    {
     "data": {
      "text/plain": [
       "['setup store 1 3',\n",
       " 'io set do 1 1',\n",
       " 'point abs p 403 39242 19754 v 0 0 0 t 60.0',\n",
       " 'io set do 1 0',\n",
       " 'point abs p 806 36151 19351 v 11009 -82858 -11009 t 60.0',\n",
       " 'io set do 1 1',\n",
       " 'point abs p 1209 33173 18948 v 11009 -79733 -11009 t 60.0',\n",
       " 'io set do 1 0',\n",
       " 'point abs p 1613 30311 18545 v 11009 -76546 -11009 t 60.0',\n",
       " 'io set do 1 1',\n",
       " 'point abs p 2016 27567 18142 v 11009 -73299 -11009 t 60.0',\n",
       " 'io set do 1 0',\n",
       " 'point abs p 2419 24942 17739 v 11009 -69995 -11009 t 60.0',\n",
       " 'io set do 1 1',\n",
       " 'point abs p 2822 22440 17335 v 11009 -66637 -11009 t 60.0',\n",
       " 'io set do 1 0',\n",
       " 'point abs p 3225 20062 16932 v 11009 -63226 -11009 t 60.0',\n",
       " 'io set do 1 1',\n",
       " 'point abs p 3628 17809 16529 v 11009 -59767 -11009 t 60.0',\n",
       " 'io set do 1 0',\n",
       " 'point abs p 4031 15684 16126 v 11009 -56260 -11009 t 60.0',\n",
       " 'io set do 1 1',\n",
       " 'point abs p 4435 13689 15723 v 11009 -52710 -11009 t 60.0',\n",
       " 'io set do 1 0',\n",
       " 'point abs p 4838 11824 15320 v 11009 -49119 -11009 t 60.0',\n",
       " 'io set do 1 1',\n",
       " 'point abs p 5241 10091 14917 v 11009 -45489 -11009 t 60.0',\n",
       " 'io set do 1 0',\n",
       " 'point abs p 5644 8492 14513 v 11009 -41824 -11009 t 60.0',\n",
       " 'io set do 1 1',\n",
       " 'point abs p 6047 7028 14110 v 11009 -38126 -11009 t 60.0',\n",
       " 'io set do 1 0',\n",
       " 'point abs p 6450 5700 13707 v 11009 -34399 -11009 t 60.0',\n",
       " 'io set do 1 1',\n",
       " 'point abs p 6854 4508 13304 v 11009 -30645 -11009 t 60.0',\n",
       " 'io set do 1 0',\n",
       " 'point abs p 7257 3455 12901 v 11009 -26867 -11009 t 60.0',\n",
       " 'io set do 1 1',\n",
       " 'point abs p 7660 2541 12498 v 11009 -23068 -11009 t 60.0',\n",
       " 'io set do 1 0',\n",
       " 'point abs p 8063 1766 12094 v 11009 -19251 -11009 t 60.0',\n",
       " 'io set do 1 1',\n",
       " 'point abs p 8466 1131 11691 v 11009 -15419 -11009 t 60.0',\n",
       " 'io set do 1 0',\n",
       " 'point abs p 8869 636 11288 v 11009 -11574 -11009 t 60.0',\n",
       " 'io set do 1 1',\n",
       " 'point abs p 9272 283 10885 v 11009 -7721 -11009 t 60.0',\n",
       " 'io set do 1 0',\n",
       " 'point abs p 9676 71 10482 v 11009 -3862 -11009 t 60.0',\n",
       " 'io set do 1 1',\n",
       " 'point abs p 10079 0 10079 v 11009 0 -11009 t 60.0',\n",
       " 'io set do 1 0',\n",
       " 'point abs p 10482 71 9676 v 11009 3862 -11009 t 60.0',\n",
       " 'io set do 1 1',\n",
       " 'point abs p 10885 283 9272 v 11009 7721 -11009 t 60.0',\n",
       " 'io set do 1 0',\n",
       " 'point abs p 11288 636 8869 v 11009 11574 -11009 t 60.0',\n",
       " 'io set do 1 1',\n",
       " 'point abs p 11691 1131 8466 v 11009 15419 -11009 t 60.0',\n",
       " 'io set do 1 0',\n",
       " 'point abs p 12094 1766 8063 v 11009 19251 -11009 t 60.0',\n",
       " 'io set do 1 1',\n",
       " 'point abs p 12498 2541 7660 v 11009 23068 -11009 t 60.0',\n",
       " 'io set do 1 0',\n",
       " 'point abs p 12901 3455 7257 v 11009 26867 -11009 t 60.0',\n",
       " 'io set do 1 1',\n",
       " 'point abs p 13304 4508 6854 v 11009 30645 -11009 t 60.0',\n",
       " 'io set do 1 0',\n",
       " 'point abs p 13707 5700 6450 v 11009 34399 -11009 t 60.0',\n",
       " 'io set do 1 1',\n",
       " 'point abs p 14110 7028 6047 v 11009 38126 -11009 t 60.0',\n",
       " 'io set do 1 0',\n",
       " 'point abs p 14513 8492 5644 v 11009 41824 -11009 t 60.0',\n",
       " 'io set do 1 1',\n",
       " 'point abs p 14917 10091 5241 v 11009 45489 -11009 t 60.0',\n",
       " 'io set do 1 0',\n",
       " 'point abs p 15320 11824 4838 v 11009 49119 -11009 t 60.0',\n",
       " 'io set do 1 1',\n",
       " 'point abs p 15723 13689 4435 v 11009 52710 -11009 t 60.0',\n",
       " 'io set do 1 0',\n",
       " 'point abs p 16126 15684 4031 v 11009 56260 -11009 t 60.0',\n",
       " 'io set do 1 1',\n",
       " 'point abs p 16529 17809 3628 v 11009 59767 -11009 t 60.0',\n",
       " 'io set do 1 0',\n",
       " 'point abs p 16932 20062 3225 v 11009 63226 -11009 t 60.0',\n",
       " 'io set do 1 1',\n",
       " 'point abs p 17335 22440 2822 v 11009 66637 -11009 t 60.0',\n",
       " 'io set do 1 0',\n",
       " 'point abs p 17739 24942 2419 v 11009 69995 -11009 t 60.0',\n",
       " 'io set do 1 1',\n",
       " 'point abs p 18142 27567 2016 v 11009 73299 -11009 t 60.0',\n",
       " 'io set do 1 0',\n",
       " 'point abs p 18545 30311 1613 v 11009 76546 -11009 t 60.0',\n",
       " 'io set do 1 1',\n",
       " 'point abs p 18948 33173 1209 v 11009 79733 -11009 t 60.0',\n",
       " 'io set do 1 0',\n",
       " 'point abs p 19351 36151 806 v 11009 82858 -11009 t 60.0',\n",
       " 'io set do 1 1',\n",
       " 'point abs p 19754 39242 403 v 11009 85918 -11009 t 60.0',\n",
       " 'io set do 1 0',\n",
       " 'point abs p 20157 42444 0 v 0 0 0 t 60.0',\n",
       " 'io set do 1 0',\n",
       " 'setup disable']"
      ]
     },
     "execution_count": 9,
     "metadata": {},
     "output_type": "execute_result"
    }
   ],
   "source": [
    "zpvt.pvt_buffer.get_content()"
   ]
  },
  {
   "cell_type": "code",
   "execution_count": 9,
   "id": "2ed05b2d",
   "metadata": {},
   "outputs": [
    {
     "ename": "TypeError",
     "evalue": "Provided value is not Measurement.",
     "output_type": "error",
     "traceback": [
      "\u001b[1;31m---------------------------------------------------------------------------\u001b[0m",
      "\u001b[1;31mTypeError\u001b[0m                                 Traceback (most recent call last)",
      "Cell \u001b[1;32mIn[9], line 1\u001b[0m\n\u001b[1;32m----> 1\u001b[0m \u001b[43mzpvt\u001b[49m\u001b[38;5;241;43m.\u001b[39;49m\u001b[43mlive_pvt\u001b[49m\u001b[38;5;241;43m.\u001b[39;49m\u001b[43mpoint\u001b[49m\u001b[43m(\u001b[49m\u001b[43m[\u001b[49m\u001b[38;5;241;43m0\u001b[39;49m\u001b[43m,\u001b[49m\u001b[38;5;241;43m39242\u001b[39;49m\u001b[43m,\u001b[49m\u001b[38;5;241;43m20157\u001b[39;49m\u001b[43m]\u001b[49m\u001b[43m,\u001b[49m\u001b[43m[\u001b[49m\u001b[38;5;241;43m0\u001b[39;49m\u001b[43m,\u001b[49m\u001b[38;5;241;43m0\u001b[39;49m\u001b[43m,\u001b[49m\u001b[38;5;241;43m0\u001b[39;49m\u001b[43m]\u001b[49m\u001b[43m,\u001b[49m\u001b[43m \u001b[49m\u001b[38;5;241;43m2000\u001b[39;49m\u001b[43m)\u001b[49m\n",
      "File \u001b[1;32m~\\miniconda3\\lib\\site-packages\\zaber_motion\\ascii\\pvt_sequence.py:278\u001b[0m, in \u001b[0;36mPvtSequence.point\u001b[1;34m(self, positions, velocities, time)\u001b[0m\n\u001b[0;32m    276\u001b[0m request\u001b[38;5;241m.\u001b[39mpvt \u001b[38;5;241m=\u001b[39m \u001b[38;5;28;01mTrue\u001b[39;00m\n\u001b[0;32m    277\u001b[0m request\u001b[38;5;241m.\u001b[39mtype \u001b[38;5;241m=\u001b[39m main_pb2\u001b[38;5;241m.\u001b[39mPvtPointRequest\u001b[38;5;241m.\u001b[39mABS\n\u001b[1;32m--> 278\u001b[0m request\u001b[38;5;241m.\u001b[39mpositions\u001b[38;5;241m.\u001b[39mextend([Measurement\u001b[38;5;241m.\u001b[39mto_protobuf(a) \u001b[38;5;28;01mfor\u001b[39;00m a \u001b[38;5;129;01min\u001b[39;00m positions])\n\u001b[0;32m    279\u001b[0m request\u001b[38;5;241m.\u001b[39mvelocities\u001b[38;5;241m.\u001b[39mextend([Measurement\u001b[38;5;241m.\u001b[39mto_protobuf(a) \u001b[38;5;28;01mfor\u001b[39;00m a \u001b[38;5;129;01min\u001b[39;00m velocities])\n\u001b[0;32m    280\u001b[0m request\u001b[38;5;241m.\u001b[39mtime\u001b[38;5;241m.\u001b[39mCopyFrom(Measurement\u001b[38;5;241m.\u001b[39mto_protobuf(time))\n",
      "File \u001b[1;32m~\\miniconda3\\lib\\site-packages\\zaber_motion\\ascii\\pvt_sequence.py:278\u001b[0m, in \u001b[0;36m<listcomp>\u001b[1;34m(.0)\u001b[0m\n\u001b[0;32m    276\u001b[0m request\u001b[38;5;241m.\u001b[39mpvt \u001b[38;5;241m=\u001b[39m \u001b[38;5;28;01mTrue\u001b[39;00m\n\u001b[0;32m    277\u001b[0m request\u001b[38;5;241m.\u001b[39mtype \u001b[38;5;241m=\u001b[39m main_pb2\u001b[38;5;241m.\u001b[39mPvtPointRequest\u001b[38;5;241m.\u001b[39mABS\n\u001b[1;32m--> 278\u001b[0m request\u001b[38;5;241m.\u001b[39mpositions\u001b[38;5;241m.\u001b[39mextend([\u001b[43mMeasurement\u001b[49m\u001b[38;5;241;43m.\u001b[39;49m\u001b[43mto_protobuf\u001b[49m\u001b[43m(\u001b[49m\u001b[43ma\u001b[49m\u001b[43m)\u001b[49m \u001b[38;5;28;01mfor\u001b[39;00m a \u001b[38;5;129;01min\u001b[39;00m positions])\n\u001b[0;32m    279\u001b[0m request\u001b[38;5;241m.\u001b[39mvelocities\u001b[38;5;241m.\u001b[39mextend([Measurement\u001b[38;5;241m.\u001b[39mto_protobuf(a) \u001b[38;5;28;01mfor\u001b[39;00m a \u001b[38;5;129;01min\u001b[39;00m velocities])\n\u001b[0;32m    280\u001b[0m request\u001b[38;5;241m.\u001b[39mtime\u001b[38;5;241m.\u001b[39mCopyFrom(Measurement\u001b[38;5;241m.\u001b[39mto_protobuf(time))\n",
      "File \u001b[1;32m~\\miniconda3\\lib\\site-packages\\zaber_motion\\measurement.py:70\u001b[0m, in \u001b[0;36mMeasurement.to_protobuf\u001b[1;34m(source)\u001b[0m\n\u001b[0;32m     67\u001b[0m     \u001b[38;5;28;01mreturn\u001b[39;00m pb_data\n\u001b[0;32m     69\u001b[0m \u001b[38;5;28;01mif\u001b[39;00m \u001b[38;5;129;01mnot\u001b[39;00m \u001b[38;5;28misinstance\u001b[39m(source, Measurement):\n\u001b[1;32m---> 70\u001b[0m     \u001b[38;5;28;01mraise\u001b[39;00m \u001b[38;5;167;01mTypeError\u001b[39;00m(\u001b[38;5;124m\"\u001b[39m\u001b[38;5;124mProvided value is not Measurement.\u001b[39m\u001b[38;5;124m\"\u001b[39m)\n\u001b[0;32m     72\u001b[0m pb_data\u001b[38;5;241m.\u001b[39mvalue \u001b[38;5;241m=\u001b[39m source\u001b[38;5;241m.\u001b[39mvalue\n\u001b[0;32m     73\u001b[0m pb_data\u001b[38;5;241m.\u001b[39munit \u001b[38;5;241m=\u001b[39m units_from_literals(source\u001b[38;5;241m.\u001b[39munit \u001b[38;5;129;01mor\u001b[39;00m Units\u001b[38;5;241m.\u001b[39mNATIVE)\u001b[38;5;241m.\u001b[39mvalue\n",
      "\u001b[1;31mTypeError\u001b[0m: Provided value is not Measurement."
     ]
    }
   ],
   "source": [
    "zpvt.live_pvt.point([0,39242,20157],[0,0,0], 2000)"
   ]
  },
  {
   "cell_type": "code",
   "execution_count": 1,
   "id": "4d0ed514",
   "metadata": {},
   "outputs": [
    {
     "name": "stdout",
     "output_type": "stream",
     "text": [
      "%pylab is deprecated, use %matplotlib inline and import the required libraries.\n",
      "Populating the interactive namespace from numpy and matplotlib\n"
     ]
    }
   ],
   "source": [
    "%pylab inline"
   ]
  },
  {
   "cell_type": "code",
   "execution_count": 2,
   "id": "87524a6b",
   "metadata": {},
   "outputs": [],
   "source": [
    "from zaber_motion import Units, Library, Measurement\n",
    "from zaber_motion.ascii import Connection, AllAxes\n",
    "from zaber_motion import *\n",
    "import pandas as pd"
   ]
  },
  {
   "cell_type": "code",
   "execution_count": 3,
   "id": "cb7ae885",
   "metadata": {},
   "outputs": [
    {
     "name": "stdout",
     "output_type": "stream",
     "text": [
      "Found 3 devices\n"
     ]
    }
   ],
   "source": [
    "Library.enable_device_db_store()\n",
    "connection=Connection.open_serial_port(\"COM4\")  # confirm that this is the right serial port\n",
    "\n",
    "device_list = connection.detect_devices()\n",
    "print(\"Found {} devices\".format(len(device_list)))\n",
    "\n",
    "device1 = device_list[0] "
   ]
  },
  {
   "cell_type": "code",
   "execution_count": 4,
   "id": "9436b8f3",
   "metadata": {},
   "outputs": [],
   "source": [
    "device2 = device_list[2] # Mirror rotation"
   ]
  },
  {
   "cell_type": "code",
   "execution_count": 95,
   "id": "12bb4f32",
   "metadata": {},
   "outputs": [
    {
     "data": {
      "text/plain": [
       "array([1, 2, 3])"
      ]
     },
     "execution_count": 95,
     "metadata": {},
     "output_type": "execute_result"
    }
   ],
   "source": [
    "df_zlut=zaber_pvt.read_table()\n",
    "zaber_pvt.table_to_pvt(zpvt.devices[0],df_zlut)"
   ]
  },
  {
   "cell_type": "code",
   "execution_count": 102,
   "id": "390e14e3",
   "metadata": {},
   "outputs": [],
   "source": [
    "zpvt.devices[0].all_axes.home()"
   ]
  },
  {
   "cell_type": "code",
   "execution_count": 112,
   "id": "671e7916",
   "metadata": {},
   "outputs": [
    {
     "ename": "AttributeError",
     "evalue": "module 'zaber_pvt' has no attribute 'make_table'",
     "output_type": "error",
     "traceback": [
      "\u001b[1;31m---------------------------------------------------------------------------\u001b[0m",
      "\u001b[1;31mAttributeError\u001b[0m                            Traceback (most recent call last)",
      "Cell \u001b[1;32mIn[112], line 1\u001b[0m\n\u001b[1;32m----> 1\u001b[0m \u001b[43mzaber_pvt\u001b[49m\u001b[38;5;241;43m.\u001b[39;49m\u001b[43mmake_table\u001b[49m()\n",
      "\u001b[1;31mAttributeError\u001b[0m: module 'zaber_pvt' has no attribute 'make_table'"
     ]
    }
   ],
   "source": [
    "zaber_pvt.make_table()"
   ]
  },
  {
   "cell_type": "code",
   "execution_count": 5,
   "id": "6dd9e5f2",
   "metadata": {},
   "outputs": [],
   "source": [
    "# !python -m pip install -U zaber_motion"
   ]
  },
  {
   "cell_type": "code",
   "execution_count": 71,
   "id": "e4d05caf",
   "metadata": {},
   "outputs": [
    {
     "ename": "IndexError",
     "evalue": "index 0 is out of bounds for axis 0 with size 0",
     "output_type": "error",
     "traceback": [
      "\u001b[1;31m---------------------------------------------------------------------------\u001b[0m",
      "\u001b[1;31mIndexError\u001b[0m                                Traceback (most recent call last)",
      "Cell \u001b[1;32mIn[71], line 14\u001b[0m\n\u001b[0;32m     10\u001b[0m df_zlut\u001b[38;5;241m=\u001b[39mdf_zlut\u001b[38;5;241m.\u001b[39miloc[idxs_subset,:]\n\u001b[0;32m     12\u001b[0m \u001b[38;5;66;03m# Times are a period, not absolute time\u001b[39;00m\n\u001b[0;32m     13\u001b[0m \u001b[38;5;66;03m# Assume they are equally spaced in time, and use the first one.\u001b[39;00m\n\u001b[1;32m---> 14\u001b[0m df_zlut\u001b[38;5;241m.\u001b[39miloc[:,\u001b[38;5;241m0\u001b[39m]\u001b[38;5;241m=\u001b[39m\u001b[43mnp\u001b[49m\u001b[38;5;241;43m.\u001b[39;49m\u001b[43mdiff\u001b[49m\u001b[43m(\u001b[49m\u001b[43m \u001b[49m\u001b[43mdf_zlut\u001b[49m\u001b[38;5;241;43m.\u001b[39;49m\u001b[43miloc\u001b[49m\u001b[43m[\u001b[49m\u001b[43m:\u001b[49m\u001b[43m,\u001b[49m\u001b[38;5;241;43m0\u001b[39;49m\u001b[43m]\u001b[49m\u001b[43m \u001b[49m\u001b[43m)\u001b[49m\u001b[43m[\u001b[49m\u001b[38;5;241;43m0\u001b[39;49m\u001b[43m]\u001b[49m\n\u001b[0;32m     17\u001b[0m \u001b[38;5;66;03m# https://software.zaber.com/motion-library/docs/guides/pvt: \u001b[39;00m\n\u001b[0;32m     18\u001b[0m \u001b[38;5;66;03m# Make the velocity of the last one zero: necessary, it seems !\u001b[39;00m\n\u001b[0;32m     19\u001b[0m \n\u001b[0;32m     20\u001b[0m \u001b[38;5;66;03m# Let Zaber figure out what the velocities should be\u001b[39;00m\n\u001b[0;32m     21\u001b[0m \u001b[38;5;28;01mif\u001b[39;00m NO_VELOCITY:\n",
      "\u001b[1;31mIndexError\u001b[0m: index 0 is out of bounds for axis 0 with size 0"
     ]
    }
   ],
   "source": [
    "df_zlut=pd.read_excel('z_table.xlsx')\n",
    "df_zlut.head()\n",
    "\n",
    "NO_VELOCITY = True\n",
    "# True=Let Zaber figure out what the velocities should be\n",
    "# False=Use computed vels from xls. But the sign is important, unlike in xls.\n",
    "\n",
    "step_size=50 # Can go through subsets of table with larger #s\n",
    "idxs_subset=np.arange(0,50,step_size)\n",
    "df_zlut=df_zlut.iloc[idxs_subset,:]\n",
    "\n",
    "# Times are a period, not absolute time\n",
    "# Assume they are equally spaced in time, and use the first one.\n",
    "df_zlut.iloc[:,0]=np.diff( df_zlut.iloc[:,0] )[0]\n",
    "\n",
    "\n",
    "# https://software.zaber.com/motion-library/docs/guides/pvt: \n",
    "# Make the velocity of the last one zero: necessary, it seems !\n",
    "\n",
    "# Let Zaber figure out what the velocities should be\n",
    "if NO_VELOCITY:\n",
    "    df_zlut.iloc[:,1]=None\n",
    "    df_zlut.iloc[0,1]=0\n",
    "    df_zlut.iloc[-1,1]=0 #len(df_zlut.index),\"Velocity (mm/s)\"]=0\n",
    "\n",
    "    #df_zlut.iloc[df_zlut[\"Displacement(mm)\"]==0,1]=0\n",
    "print( df_zlut)"
   ]
  },
  {
   "cell_type": "code",
   "execution_count": 8,
   "id": "8afb34cf",
   "metadata": {},
   "outputs": [],
   "source": [
    "ax1_sweep_lims=[0,10] # mm\n",
    "ax3_sweep_lims=[10,0] # mm"
   ]
  },
  {
   "cell_type": "code",
   "execution_count": 9,
   "id": "45020d12",
   "metadata": {},
   "outputs": [
    {
     "name": "stdout",
     "output_type": "stream",
     "text": [
      "<zaber_motion.ascii.pvt_buffer.PvtBuffer object at 0x00000206CA5459C0>\n",
      "Device 1 -> PVT Sequence 1 (Disabled)\n",
      "['setup store 1 3', 'io set do 1 1', 'point abs p 0 3924 20157 v 0 0 0 t 600.0', 'io set do 1 1', 'point abs p 5039 1369 15118 v 13761 -5203 -13761 t 600.0', 'io set do 1 1', 'point abs p 10079 113 10079 v 13761 -1522 -13761 t 600.0', 'io set do 1 1', 'point abs p 15118 254 5039 v 13761 2277 -13761 t 600.0', 'io set do 1 1', 'point abs p 20157 1781 0 v 0 0 0 t 600.0', 'io set do 1 0', 'setup disable']\n"
     ]
    }
   ],
   "source": [
    "#ax0=device1.get_axis(2)\n",
    "\n",
    "pvt = device1.get_pvt(1)\n",
    "pvt.disable()\n",
    "\n",
    "pvt_buffer = device1.get_pvt_buffer(1)\n",
    "pvt_buffer.erase()\n",
    "\n",
    "NDIMS=3\n",
    "arr_axes=np.arange(NDIMS)+1\n",
    "# set up PVT to store points to PVT buffer 1 and\n",
    "# to use the first axis for unit conversion\n",
    "pvt.setup_store(pvt_buffer, *arr_axes )\n",
    "\n",
    "# add PVT points from LUT in Excel file\n",
    "for index, row in df_zlut.iterrows():\n",
    "\n",
    "    # Add each point in a loop\n",
    "    if NDIMS==1:\n",
    "        poses=[Measurement(row[\"Displacement(mm)\"], Units.LENGTH_MILLIMETRES)]\n",
    "    elif NDIMS==2:\n",
    "        ax1_pos = ax1_sweep_lims[0] + (index)*(ax1_sweep_lims[1]-ax1_sweep_lims[0])/df_zlut.index[-1]\n",
    "        poses=[Measurement(ax1_pos, Units.LENGTH_MILLIMETRES),\n",
    "               Measurement(row[\"Displacement(mm)\"], Units.LENGTH_MILLIMETRES)]\n",
    "    else: # Assume 3\n",
    "        ax1_pos = ax1_sweep_lims[0] + (index)*(ax1_sweep_lims[1]-ax1_sweep_lims[0])/df_zlut.index[-1]\n",
    "        ax3_pos = ax3_sweep_lims[0] + (index)*(ax3_sweep_lims[1]-ax3_sweep_lims[0])/df_zlut.index[-1]\n",
    "        poses=[Measurement(ax1_pos, Units.LENGTH_MILLIMETRES),\n",
    "               Measurement(row[\"Displacement(mm)\"]/10.0, Units.LENGTH_MILLIMETRES),\n",
    "               Measurement(ax3_pos, Units.LENGTH_MILLIMETRES) ];\n",
    "        \n",
    "    if row[\"Velocity (mm/s)\"] is None:\n",
    "        vels=[None]*NDIMS\n",
    "    else:\n",
    "        vels=[Measurement(row[\"Velocity (mm/s)\"], Units.VELOCITY_MILLIMETRES_PER_SECOND)]*NDIMS\n",
    "           \n",
    "    # Toggle the DIO (first channel): at 0 will be 1, at 1 will be 0, at 2 will be 1, etc..\n",
    "    # use +1 mod 2. TODO (this is pretty hacky and inflexible)\n",
    "    pvt.set_digital_output(1,(index+1)%2)\n",
    "    pvt.point(poses, vels , Measurement(row[\"Time(s)\"], Units.TIME_SECONDS) )\n",
    "    #time.sleep(0.01)\n",
    "pvt.set_digital_output(1,0)\n",
    "\n",
    "# finish writing to the buffer\n",
    "pvt.disable()\n",
    "\n",
    "print(pvt_buffer)\n",
    "print( pvt )\n",
    "print( pvt_buffer.get_content() )"
   ]
  },
  {
   "cell_type": "code",
   "execution_count": 10,
   "id": "507739af",
   "metadata": {},
   "outputs": [],
   "source": [
    "# execute:\n",
    "pvt = device1.get_pvt(2)\n",
    "pvt.disable()\n",
    "pvt.setup_live(*arr_axes) # Execute on axis Z\n",
    "\n",
    "# the sequence will now execute the stored points\n",
    "pvt.call(pvt_buffer)\n",
    "\n",
    "#print (pvt."
   ]
  },
  {
   "cell_type": "code",
   "execution_count": 65,
   "id": "02c8ec6e",
   "metadata": {},
   "outputs": [],
   "source": [
    "pvt.call(pvt_buffer)\n",
    "amt_deg=45\n",
    "device2.get_axis(1).move_absolute(amt_deg, Units.ANGLE_DEGREES,\n",
    "                                  velocity=amt_deg/3.0, velocity_unit=Units.ANGULAR_VELOCITY_DEGREES_PER_SECOND,\n",
    "                                  wait_until_idle=False)"
   ]
  },
  {
   "cell_type": "code",
   "execution_count": null,
   "id": "3844c9d8",
   "metadata": {},
   "outputs": [],
   "source": [
    "pvt.call(pvt_buffer)"
   ]
  },
  {
   "cell_type": "code",
   "execution_count": 64,
   "id": "6f826406",
   "metadata": {},
   "outputs": [],
   "source": [
    "device2.get_axis(1).home()"
   ]
  },
  {
   "cell_type": "code",
   "execution_count": 54,
   "id": "655275e7",
   "metadata": {},
   "outputs": [
    {
     "name": "stdout",
     "output_type": "stream",
     "text": [
      "Help on method move_absolute in module zaber_motion.ascii.axis:\n",
      "\n",
      "move_absolute(position: float, unit: Union[zaber_motion.units.Units, Literal['m', 'cm', 'mm', 'µm', 'um', 'nm', 'in', '°', 'deg', 'rad']] = <Units.NATIVE: ''>, wait_until_idle: bool = True, velocity: float = 0, velocity_unit: Union[zaber_motion.units.Units, Literal['m/s', 'cm/s', 'mm/s', 'µm/s', 'um/s', 'nm/s', 'in/s', '°/s', 'deg/s', 'rad/s']] = <Units.NATIVE: ''>, acceleration: float = 0, acceleration_unit: Union[zaber_motion.units.Units, Literal['m/s²', 'm/s^2', 'cm/s²', 'cm/s^2', 'mm/s²', 'mm/s^2', 'µm/s²', 'um/s^2', 'nm/s²', 'nm/s^2', 'in/s²', 'in/s^2', '°/s²', 'deg/s^2', 'rad/s²', 'rad/s^2']] = <Units.NATIVE: ''>) -> None method of zaber_motion.ascii.axis.Axis instance\n",
      "    Move axis to absolute position.\n",
      "    \n",
      "    Args:\n",
      "        position: Absolute position.\n",
      "        unit: Units of position.\n",
      "        wait_until_idle: Determines whether function should return after the movement is finished or just started.\n",
      "        velocity: Movement velocity.\n",
      "            Default value of 0 indicates that the maxspeed setting is used instead.\n",
      "            Requires at least Firmware 7.25.\n",
      "        velocity_unit: Units of velocity.\n",
      "        acceleration: Movement acceleration.\n",
      "            Default value of 0 indicates that the accel setting is used instead.\n",
      "            Requires at least Firmware 7.25.\n",
      "        acceleration_unit: Units of acceleration.\n",
      "\n"
     ]
    }
   ],
   "source": [
    "help( device2.get_axis(1).move_absolute )"
   ]
  },
  {
   "cell_type": "code",
   "execution_count": 48,
   "id": "86fa3784",
   "metadata": {},
   "outputs": [
    {
     "name": "stdout",
     "output_type": "stream",
     "text": [
      "0.015173673629760742\n"
     ]
    }
   ],
   "source": [
    "import time\n",
    "t1=time.time()\n",
    "amt_deg=90\n",
    "device2.get_axis(1).move_absolute(amt_deg, Units.ANGLE_DEGREES, velocity=amt_deg/3.0, wait_until_idle=False)\n",
    "pvt.call(pvt_buffer)\n",
    "print ( time.time() - t1)"
   ]
  },
  {
   "cell_type": "code",
   "execution_count": 40,
   "id": "96369c05",
   "metadata": {},
   "outputs": [
    {
     "name": "stdout",
     "output_type": "stream",
     "text": [
      "9.398441314697266\n"
     ]
    }
   ],
   "source": [
    "print ( time.time() - t1)"
   ]
  },
  {
   "cell_type": "code",
   "execution_count": 26,
   "id": "65ebf5d6",
   "metadata": {},
   "outputs": [],
   "source": []
  },
  {
   "cell_type": "code",
   "execution_count": 27,
   "id": "2faa8585",
   "metadata": {},
   "outputs": [
    {
     "data": {
      "text/plain": [
       "1.8900182247161865"
      ]
     },
     "execution_count": 27,
     "metadata": {},
     "output_type": "execute_result"
    }
   ],
   "source": [
    "time.time()-t1"
   ]
  },
  {
   "cell_type": "code",
   "execution_count": 32,
   "id": "32b7b7be",
   "metadata": {},
   "outputs": [],
   "source": [
    "d3=device_list[2]\n",
    "\n",
    "amt_deg=10\n",
    "pvt.call(pvt_buffer)\n",
    "device2.get_axis(1).move_absolute(amt_deg, Units.NATIVE, velocity=amt_deg/3.0, wait_until_idle=False)\n",
    "#d3.get_axis(1).move_absolute(amt_deg, Units.ANGLE_DEGREES, velocity=amt_deg/3.0, wait_until_idle=False)\n",
    "#,wait_until_idle=False)"
   ]
  },
  {
   "cell_type": "code",
   "execution_count": 13,
   "id": "36e1a3d5",
   "metadata": {},
   "outputs": [
    {
     "data": {
      "text/plain": [
       "[None, None, None]"
      ]
     },
     "execution_count": 13,
     "metadata": {},
     "output_type": "execute_result"
    }
   ],
   "source": [
    "[device1.get_axis(n).home() for n in [1,2,3]]"
   ]
  },
  {
   "cell_type": "code",
   "execution_count": 14,
   "id": "3d1da2d7",
   "metadata": {},
   "outputs": [],
   "source": [
    "axs=[device1.get_axis(n) for n in [1,2,3]]"
   ]
  },
  {
   "cell_type": "code",
   "execution_count": 17,
   "id": "91d94990",
   "metadata": {},
   "outputs": [],
   "source": [
    "axs[0].move_absolute(0)\n",
    "axs[1].move_absolute(40000)\n",
    "axs[2].move_absolute(20000)"
   ]
  },
  {
   "cell_type": "code",
   "execution_count": 19,
   "id": "61c7eddc",
   "metadata": {},
   "outputs": [
    {
     "ename": "NameError",
     "evalue": "name 'ax1' is not defined",
     "output_type": "error",
     "traceback": [
      "\u001b[1;31m---------------------------------------------------------------------------\u001b[0m",
      "\u001b[1;31mNameError\u001b[0m                                 Traceback (most recent call last)",
      "Cell \u001b[1;32mIn[19], line 1\u001b[0m\n\u001b[1;32m----> 1\u001b[0m \u001b[43max1\u001b[49m\u001b[38;5;241m.\u001b[39mhome()\n\u001b[0;32m      2\u001b[0m ax2\u001b[38;5;241m.\u001b[39mhome()\n\u001b[0;32m      3\u001b[0m ax3\u001b[38;5;241m.\u001b[39mhome()\n",
      "\u001b[1;31mNameError\u001b[0m: name 'ax1' is not defined"
     ]
    }
   ],
   "source": [
    "ax1.home()\n",
    "ax2.home()\n",
    "ax3.home()"
   ]
  },
  {
   "cell_type": "code",
   "execution_count": 246,
   "id": "182decd2",
   "metadata": {},
   "outputs": [
    {
     "data": {
      "text/plain": [
       "[20157.0, 17809.0, 10.0]"
      ]
     },
     "execution_count": 246,
     "metadata": {},
     "output_type": "execute_result"
    }
   ],
   "source": [
    "[ax1.get_position() for ax1 in axs]"
   ]
  },
  {
   "cell_type": "code",
   "execution_count": 4,
   "id": "6d2e4dfe",
   "metadata": {},
   "outputs": [
    {
     "data": {
      "text/plain": [
       "'{\"context\":{\"v\":3,\"type\":\"peripheral\",\"fw\":{\"major\":7,\"minor\":33,\"build\":14091}},\"axis\":{\"peripheralId\":\"70131\",\"serial\":\"112556\",\"settings\":{\"cloop.continuous.enable\":\"0\",\"cloop.displace.tolerance\":\"128\",\"cloop.enable\":\"1\",\"cloop.recovery.enable\":\"0\",\"cloop.stall.action\":\"0\",\"cloop.stall.detect.mode\":\"0\",\"cloop.stall.tolerance\":\"512\",\"cloop.timeout\":\"100\",\"driver.current.hold\":\"35\",\"driver.current.run\":\"70\",\"ictrl.advance.a\":\"0.000000000\",\"ictrl.advance.offset\":\"4096.000000000\",\"ictrl.afcff.inductance\":\"0.088000000\",\"ictrl.afcff.ke\":\"7.781229568\",\"ictrl.afcff.ki\":\"0.000000000\",\"ictrl.afcff.max\":\"48000.000851968\",\"ictrl.afcff.ss\":\"0.000000000\",\"ictrl.afcff.ss.max\":\"0.999899840\",\"ictrl.ff.kd\":\"0.088000000\",\"ictrl.ff.kp\":\"0.000999999\",\"ictrl.gain.coldmult\":\"0.299999968\",\"ictrl.pi.ki\":\"0.000028998\",\"ictrl.pi.kp\":\"0.011596000\",\"ictrl.type\":\"6\",\"knob.dir\":\"0\",\"knob.distance\":\"640\",\"knob.enable\":\"1\",\"knob.maxspeed\":\"153600\",\"knob.mode\":\"0\",\"knob.speedprofile\":\"2\",\"limit.approach.maxspeed\":\"153600\",\"limit.detect.decelonly\":\"820\",\"limit.detect.maxspeed\":\"19200\",\"limit.home.action\":\"2\",\"limit.home.offset\":\"0\",\"limit.home.posupdate\":\"0\",\"limit.home.preset\":\"0\",\"limit.max\":\"154202\",\"limit.min\":\"0\",\"maxspeed\":\"153600\",\"motion.accel.ramptime\":\"0.0\",\"motion.accelonly\":\"205\",\"motion.decelonly\":\"205\",\"motion.index.dist\":\"64\",\"resolution\":\"64\"},\"storedPositions\":{\"1\":0,\"10\":0,\"11\":0,\"12\":0,\"13\":0,\"14\":0,\"15\":0,\"16\":0,\"2\":0,\"3\":0,\"4\":0,\"5\":0,\"6\":0,\"7\":0,\"8\":0,\"9\":0}}}'"
      ]
     },
     "execution_count": 4,
     "metadata": {},
     "output_type": "execute_result"
    }
   ],
   "source": [
    "ax1=device1.get_axis(1)\n",
    "ax1.get_state()"
   ]
  },
  {
   "cell_type": "code",
   "execution_count": 7,
   "id": "30b7010e",
   "metadata": {},
   "outputs": [
    {
     "name": "stdout",
     "output_type": "stream",
     "text": [
      "{\"context\":{\"v\":3,\"type\":\"peripheral\",\"fw\":{\"major\":7,\"minor\":33,\"build\":14091}},\"axis\":{\"peripheralId\":\"70134\",\"serial\":\"112555\",\"settings\":{\"cloop.continuous.enable\":\"0\",\"cloop.displace.tolerance\":\"128\",\"cloop.enable\":\"1\",\"cloop.recovery.enable\":\"0\",\"cloop.stall.action\":\"0\",\"cloop.stall.detect.mode\":\"0\",\"cloop.stall.tolerance\":\"512\",\"cloop.timeout\":\"100\",\"driver.current.hold\":\"35\",\"driver.current.run\":\"70\",\"ictrl.advance.a\":\"0.000000000\",\"ictrl.advance.offset\":\"4096.000000000\",\"ictrl.afcff.inductance\":\"0.088000000\",\"ictrl.afcff.ke\":\"7.781229568\",\"ictrl.afcff.ki\":\"0.000000000\",\"ictrl.afcff.max\":\"48000.000851968\",\"ictrl.afcff.ss\":\"0.000000000\",\"ictrl.afcff.ss.max\":\"0.999899840\",\"ictrl.ff.kd\":\"0.088000000\",\"ictrl.ff.kp\":\"0.000999999\",\"ictrl.gain.coldmult\":\"0.299999968\",\"ictrl.pi.ki\":\"0.000028998\",\"ictrl.pi.kp\":\"0.011596000\",\"ictrl.type\":\"6\",\"knob.dir\":\"0\",\"knob.distance\":\"640\",\"knob.enable\":\"1\",\"knob.maxspeed\":\"153600\",\"knob.mode\":\"0\",\"knob.speedprofile\":\"2\",\"limit.approach.maxspeed\":\"153600\",\"limit.detect.decelonly\":\"820\",\"limit.detect.maxspeed\":\"19200\",\"limit.home.action\":\"2\",\"limit.home.offset\":\"0\",\"limit.home.posupdate\":\"0\",\"limit.home.preset\":\"0\",\"limit.max\":\"305381\",\"limit.min\":\"0\",\"maxspeed\":\"153600\",\"motion.accel.ramptime\":\"0.0\",\"motion.accelonly\":\"205\",\"motion.decelonly\":\"205\",\"motion.index.dist\":\"64\",\"resolution\":\"64\"},\"storedPositions\":{\"1\":0,\"10\":0,\"11\":0,\"12\":0,\"13\":0,\"14\":0,\"15\":0,\"16\":0,\"2\":0,\"3\":0,\"4\":0,\"5\":0,\"6\":0,\"7\":0,\"8\":0,\"9\":0}}}\n"
     ]
    }
   ],
   "source": [
    "ax3=device1.get_axis(3)\n",
    "print( ax3.get_state() )\n"
   ]
  },
  {
   "cell_type": "code",
   "execution_count": 178,
   "id": "1ac7ff09",
   "metadata": {},
   "outputs": [],
   "source": [
    "ax3.home()"
   ]
  },
  {
   "cell_type": "code",
   "execution_count": 180,
   "id": "c84d45fd",
   "metadata": {},
   "outputs": [],
   "source": [
    "ax3.move_absolute(10)"
   ]
  },
  {
   "cell_type": "code",
   "execution_count": 18,
   "id": "738fb83f",
   "metadata": {},
   "outputs": [
    {
     "data": {
      "text/plain": [
       "Axis 3 (LSQ150B-E01T3A) -> Device 1 SN: 112052 (X-MCC3 (rev 2/3)) -> Connection 1 (ASCII Serial port: COM4)"
      ]
     },
     "execution_count": 18,
     "metadata": {},
     "output_type": "execute_result"
    }
   ],
   "source": [
    "device1.get_axis(3)"
   ]
  },
  {
   "cell_type": "code",
   "execution_count": null,
   "id": "a936e318",
   "metadata": {},
   "outputs": [],
   "source": []
  }
 ],
 "metadata": {
  "kernelspec": {
   "display_name": "Python 3 (ipykernel)",
   "language": "python",
   "name": "python3"
  },
  "language_info": {
   "codemirror_mode": {
    "name": "ipython",
    "version": 3
   },
   "file_extension": ".py",
   "mimetype": "text/x-python",
   "name": "python",
   "nbconvert_exporter": "python",
   "pygments_lexer": "ipython3",
   "version": "3.10.8"
  }
 },
 "nbformat": 4,
 "nbformat_minor": 5
}
