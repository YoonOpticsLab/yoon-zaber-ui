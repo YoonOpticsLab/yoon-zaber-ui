{
 "cells": [
  {
   "cell_type": "code",
   "execution_count": 1,
   "id": "097ed27c",
   "metadata": {},
   "outputs": [],
   "source": [
    "%load_ext autoreload\n",
    "%autoreload 2\n",
    "\n",
    "import zaber_pvt\n",
    "import zaber_motion # May not need"
   ]
  },
  {
   "cell_type": "code",
   "execution_count": 4,
   "id": "c35531a8",
   "metadata": {
    "scrolled": true
   },
   "outputs": [
    {
     "name": "stdout",
     "output_type": "stream",
     "text": [
      "Found 3 devices\n"
     ]
    }
   ],
   "source": [
    "zpvt=zaber_pvt.ZaberPVT()\n",
    "zpvt.connect()\n"
   ]
  },
  {
   "cell_type": "code",
   "execution_count": 24,
   "id": "a6cfe4af",
   "metadata": {},
   "outputs": [
    {
     "data": {
      "text/plain": [
       "0.0"
      ]
     },
     "execution_count": 24,
     "metadata": {},
     "output_type": "execute_result"
    }
   ],
   "source": [
    ".get_position()"
   ]
  },
  {
   "cell_type": "code",
   "execution_count": 34,
   "id": "6d2a197a",
   "metadata": {},
   "outputs": [],
   "source": [
    "ax=zpvt.devices[0].get_axis(3)"
   ]
  },
  {
   "cell_type": "code",
   "execution_count": 35,
   "id": "97884d71",
   "metadata": {},
   "outputs": [],
   "source": [
    "import zaber"
   ]
  },
  {
   "cell_type": "code",
   "execution_count": 37,
   "id": "95136202",
   "metadata": {},
   "outputs": [
    {
     "data": {
      "text/plain": [
       "62.999937499999966"
      ]
     },
     "execution_count": 37,
     "metadata": {},
     "output_type": "execute_result"
    }
   ],
   "source": [
    "ax.get_position(\"mm\")"
   ]
  },
  {
   "cell_type": "code",
   "execution_count": 12,
   "id": "5ec60b45",
   "metadata": {},
   "outputs": [],
   "source": [
    "# USe an odd number of pts seemed to work better to prevent PVT error\n",
    "# (with weird velocities near center?)\n",
    "\n",
    "# mult scales from 0-1 to mmmm.\n",
    "# 50=12\n",
    "# 75=17.5\n",
    "zpvt.setup_zlut([0,30],[0,70],duration_sec=3,npts=31,mult=75)\n",
    "#zpvt.move3()\n"
   ]
  },
  {
   "cell_type": "code",
   "execution_count": 13,
   "id": "1c8403e8",
   "metadata": {},
   "outputs": [],
   "source": [
    "zpvt.to_start3()"
   ]
  },
  {
   "cell_type": "code",
   "execution_count": 10,
   "id": "283d7b84",
   "metadata": {},
   "outputs": [],
   "source": [
    "zpvt.sweep3()"
   ]
  },
  {
   "cell_type": "code",
   "execution_count": 38,
   "id": "4feebf69",
   "metadata": {},
   "outputs": [
    {
     "ename": "ConnectionClosedException",
     "evalue": "ConnectionClosedException: Connection has been closed",
     "output_type": "error",
     "traceback": [
      "\u001b[1;31m---------------------------------------------------------------------------\u001b[0m",
      "\u001b[1;31mConnectionClosedException\u001b[0m                 Traceback (most recent call last)",
      "Cell \u001b[1;32mIn[38], line 1\u001b[0m\n\u001b[1;32m----> 1\u001b[0m \u001b[43mzpvt\u001b[49m\u001b[38;5;241;43m.\u001b[39;49m\u001b[43mpvt_buffer\u001b[49m\u001b[38;5;241;43m.\u001b[39;49m\u001b[43mget_content\u001b[49m\u001b[43m(\u001b[49m\u001b[43m)\u001b[49m\n",
      "File \u001b[1;32m~\\miniconda3\\lib\\site-packages\\zaber_motion\\ascii\\pvt_buffer.py:50\u001b[0m, in \u001b[0;36mPvtBuffer.get_content\u001b[1;34m(self)\u001b[0m\n\u001b[0;32m     48\u001b[0m request\u001b[38;5;241m.\u001b[39mpvt \u001b[38;5;241m=\u001b[39m \u001b[38;5;28;01mTrue\u001b[39;00m\n\u001b[0;32m     49\u001b[0m response \u001b[38;5;241m=\u001b[39m main_pb2\u001b[38;5;241m.\u001b[39mStreamBufferGetContentResponse()\n\u001b[1;32m---> 50\u001b[0m \u001b[43mcall\u001b[49m\u001b[43m(\u001b[49m\u001b[38;5;124;43m\"\u001b[39;49m\u001b[38;5;124;43mdevice/stream_buffer_get_content\u001b[39;49m\u001b[38;5;124;43m\"\u001b[39;49m\u001b[43m,\u001b[49m\u001b[43m \u001b[49m\u001b[43mrequest\u001b[49m\u001b[43m,\u001b[49m\u001b[43m \u001b[49m\u001b[43mresponse\u001b[49m\u001b[43m)\u001b[49m\n\u001b[0;32m     51\u001b[0m \u001b[38;5;28;01mreturn\u001b[39;00m \u001b[38;5;28mlist\u001b[39m(response\u001b[38;5;241m.\u001b[39mbuffer_lines)\n",
      "File \u001b[1;32m~\\miniconda3\\lib\\site-packages\\zaber_motion\\call.py:46\u001b[0m, in \u001b[0;36mcall\u001b[1;34m(request, data, response_data)\u001b[0m\n\u001b[0;32m     42\u001b[0m     \u001b[38;5;28;01mraise\u001b[39;00m \u001b[38;5;167;01mRuntimeError\u001b[39;00m(\u001b[38;5;124mf\u001b[39m\u001b[38;5;124m\"\u001b[39m\u001b[38;5;124mInvalid result code: \u001b[39m\u001b[38;5;132;01m{\u001b[39;00mresult\u001b[38;5;132;01m}\u001b[39;00m\u001b[38;5;124m\"\u001b[39m)\n\u001b[0;32m     44\u001b[0m response_buffers \u001b[38;5;241m=\u001b[39m promise\u001b[38;5;241m.\u001b[39mget()\n\u001b[1;32m---> 46\u001b[0m \u001b[43mprocess_response\u001b[49m\u001b[43m(\u001b[49m\u001b[43mresponse_buffers\u001b[49m\u001b[43m,\u001b[49m\u001b[43m \u001b[49m\u001b[43mresponse_data\u001b[49m\u001b[43m)\u001b[49m\n",
      "File \u001b[1;32m~\\miniconda3\\lib\\site-packages\\zaber_motion\\call.py:123\u001b[0m, in \u001b[0;36mprocess_response\u001b[1;34m(response_buffers, response_data)\u001b[0m\n\u001b[0;32m    121\u001b[0m     \u001b[38;5;28;01mif\u001b[39;00m \u001b[38;5;28mlen\u001b[39m(response_buffers) \u001b[38;5;241m>\u001b[39m \u001b[38;5;241m1\u001b[39m:\n\u001b[0;32m    122\u001b[0m         \u001b[38;5;28;01mraise\u001b[39;00m convert_exception(response_proto\u001b[38;5;241m.\u001b[39merror_type, response_proto\u001b[38;5;241m.\u001b[39merror_message, response_buffers[\u001b[38;5;241m1\u001b[39m])\n\u001b[1;32m--> 123\u001b[0m     \u001b[38;5;28;01mraise\u001b[39;00m convert_exception(response_proto\u001b[38;5;241m.\u001b[39merror_type, response_proto\u001b[38;5;241m.\u001b[39merror_message)\n\u001b[0;32m    125\u001b[0m \u001b[38;5;28;01mif\u001b[39;00m \u001b[38;5;28mlen\u001b[39m(response_buffers) \u001b[38;5;241m>\u001b[39m \u001b[38;5;241m1\u001b[39m:\n\u001b[0;32m    126\u001b[0m     \u001b[38;5;28;01mif\u001b[39;00m response_data \u001b[38;5;129;01mis\u001b[39;00m \u001b[38;5;28;01mNone\u001b[39;00m:\n",
      "\u001b[1;31mConnectionClosedException\u001b[0m: ConnectionClosedException: Connection has been closed"
     ]
    }
   ],
   "source": [
    "zpvt.pvt_buffer.get_content()"
   ]
  },
  {
   "cell_type": "code",
   "execution_count": 171,
   "id": "00cd5481",
   "metadata": {},
   "outputs": [],
   "source": [
    "zpvt.home3()"
   ]
  },
  {
   "cell_type": "code",
   "execution_count": 182,
   "id": "db67cf52",
   "metadata": {},
   "outputs": [],
   "source": [
    "zpvt.live_pvt.point(*zpvt.start_pos)"
   ]
  },
  {
   "cell_type": "code",
   "execution_count": 181,
   "id": "b3e02881",
   "metadata": {},
   "outputs": [],
   "source": [
    "zpvt.live_pvt.call(zpvt.pvt_buffer)"
   ]
  },
  {
   "cell_type": "code",
   "execution_count": 168,
   "id": "916075e1",
   "metadata": {},
   "outputs": [
    {
     "name": "stdout",
     "output_type": "stream",
     "text": [
      "[{'_value': 0.0, '_unit': <Units.LENGTH_MILLIMETRES: 'Length:millimetres'>}, {'_value': 17.546666766076648, '_unit': <Units.LENGTH_MILLIMETRES: 'Length:millimetres'>}, {'_value': 0.0, '_unit': <Units.LENGTH_MILLIMETRES: 'Length:millimetres'>}]\n"
     ]
    }
   ],
   "source": [
    "print( zpvt.start_pos[0])\n",
    "#zpvt.devices[2].get_axis(1).move_absolute(0)"
   ]
  },
  {
   "cell_type": "code",
   "execution_count": 78,
   "id": "7f48cd57",
   "metadata": {},
   "outputs": [],
   "source": [
    "pos3=[0,0,0]\n",
    "p0=[zaber_motion.Measurement(p1,zaber_motion.Units.LENGTH_MILLIMETRES) for p1 in pos3]\n",
    "v0=[zaber_motion.Measurement(p1,zaber_motion.Units.VELOCITY_MILLIMETRES_PER_SECOND) for p1 in pos3]\n",
    "\n",
    "zpvt.live_pvt.point(p0, v0,\n",
    "                    time=zaber_motion.Measurement(3, zaber_motion.Units.TIME_SECONDS))"
   ]
  },
  {
   "cell_type": "code",
   "execution_count": 33,
   "id": "1b4e81a9",
   "metadata": {},
   "outputs": [
    {
     "data": {
      "text/plain": [
       "[[{'_value': 0, '_unit': <Units.LENGTH_MILLIMETRES: 'Length:millimetres'>},\n",
       "  {'_value': 21.056000119292, '_unit': <Units.LENGTH_MILLIMETRES: 'Length:millimetres'>},\n",
       "  {'_value': 0, '_unit': <Units.LENGTH_MILLIMETRES: 'Length:millimetres'>}],\n",
       " [None, None, None],\n",
       " {'_value': 2.0, '_unit': <Units.TIME_SECONDS: 'Time:seconds'>}]"
      ]
     },
     "execution_count": 33,
     "metadata": {},
     "output_type": "execute_result"
    }
   ],
   "source": [
    "zpvt.start_pos"
   ]
  },
  {
   "cell_type": "code",
   "execution_count": 8,
   "id": "c0c3b8dd",
   "metadata": {},
   "outputs": [],
   "source": [
    "\n",
    "#/1 pvt 2 point abs p 0 39242 20157 v 0 0 0 t 1000"
   ]
  },
  {
   "cell_type": "code",
   "execution_count": 5,
   "id": "901df480",
   "metadata": {},
   "outputs": [
    {
     "data": {
      "text/plain": [
       "['setup store 1 3',\n",
       " 'io set do 1 1',\n",
       " 'point abs p 1186 0 0 v 0 0 0 t 58.8',\n",
       " 'io set do 1 0',\n",
       " 'point abs p 2371 0 0 v 0 0 0 t 58.8',\n",
       " 'io set do 1 1',\n",
       " 'point abs p 3557 0 0 v 0 0 0 t 58.8',\n",
       " 'io set do 1 0',\n",
       " 'point abs p 4743 0 0 v 0 0 0 t 58.8',\n",
       " 'io set do 1 1',\n",
       " 'point abs p 5929 0 0 v 0 0 0 t 58.8',\n",
       " 'io set do 1 0',\n",
       " 'point abs p 7114 0 0 v 0 0 0 t 58.8',\n",
       " 'io set do 1 1',\n",
       " 'point abs p 8300 0 0 v 0 0 0 t 58.8',\n",
       " 'io set do 1 0',\n",
       " 'point abs p 9486 0 0 v 0 0 0 t 58.8',\n",
       " 'io set do 1 1',\n",
       " 'point abs p 10672 0 0 v 0 0 0 t 58.8',\n",
       " 'io set do 1 0',\n",
       " 'point abs p 11857 0 0 v 0 0 0 t 58.8',\n",
       " 'io set do 1 1',\n",
       " 'point abs p 13043 0 0 v 0 0 0 t 58.8',\n",
       " 'io set do 1 0',\n",
       " 'point abs p 14229 0 0 v 0 0 0 t 58.8',\n",
       " 'io set do 1 1',\n",
       " 'point abs p 15415 0 0 v 0 0 0 t 58.8',\n",
       " 'io set do 1 0',\n",
       " 'point abs p 16600 0 0 v 0 0 0 t 58.8',\n",
       " 'io set do 1 1',\n",
       " 'point abs p 17786 0 0 v 0 0 0 t 58.8',\n",
       " 'io set do 1 0',\n",
       " 'point abs p 18972 0 0 v 0 0 0 t 58.8',\n",
       " 'io set do 1 1',\n",
       " 'point abs p 20157 0 0 v 0 0 0 t 58.8',\n",
       " 'io set do 1 0',\n",
       " 'point abs p 21343 0 0 v 0 0 0 t 58.8',\n",
       " 'io set do 1 1',\n",
       " 'point abs p 22529 0 0 v 0 0 0 t 58.8',\n",
       " 'io set do 1 0',\n",
       " 'point abs p 23715 0 0 v 0 0 0 t 58.8',\n",
       " 'io set do 1 1',\n",
       " 'point abs p 24900 0 0 v 0 0 0 t 58.8',\n",
       " 'io set do 1 0',\n",
       " 'point abs p 26086 0 0 v 0 0 0 t 58.8',\n",
       " 'io set do 1 1',\n",
       " 'point abs p 27272 0 0 v 0 0 0 t 58.8',\n",
       " 'io set do 1 0',\n",
       " 'point abs p 28458 0 0 v 0 0 0 t 58.8',\n",
       " 'io set do 1 1',\n",
       " 'point abs p 29643 0 0 v 0 0 0 t 58.8',\n",
       " 'io set do 1 0',\n",
       " 'point abs p 30829 0 0 v 0 0 0 t 58.8',\n",
       " 'io set do 1 1',\n",
       " 'point abs p 32015 0 0 v 0 0 0 t 58.8',\n",
       " 'io set do 1 0',\n",
       " 'point abs p 33201 0 0 v 0 0 0 t 58.8',\n",
       " 'io set do 1 1',\n",
       " 'point abs p 34386 0 0 v 0 0 0 t 58.8',\n",
       " 'io set do 1 0',\n",
       " 'point abs p 35572 0 0 v 0 0 0 t 58.8',\n",
       " 'io set do 1 1',\n",
       " 'point abs p 36758 0 0 v 0 0 0 t 58.8',\n",
       " 'io set do 1 0',\n",
       " 'point abs p 37943 0 0 v 0 0 0 t 58.8',\n",
       " 'io set do 1 1',\n",
       " 'point abs p 39129 0 0 v 0 0 0 t 58.8',\n",
       " 'io set do 1 0',\n",
       " 'point abs p 40315 0 0 v 0 0 0 t 58.8',\n",
       " 'io set do 1 1',\n",
       " 'point abs p 41501 0 0 v 0 0 0 t 58.8',\n",
       " 'io set do 1 0',\n",
       " 'point abs p 42686 0 0 v 0 0 0 t 58.8',\n",
       " 'io set do 1 1',\n",
       " 'point abs p 43872 0 0 v 0 0 0 t 58.8',\n",
       " 'io set do 1 0',\n",
       " 'point abs p 45058 0 0 v 0 0 0 t 58.8',\n",
       " 'io set do 1 1',\n",
       " 'point abs p 46244 0 0 v 0 0 0 t 58.8',\n",
       " 'io set do 1 0',\n",
       " 'point abs p 47429 0 0 v 0 0 0 t 58.8',\n",
       " 'io set do 1 1',\n",
       " 'point abs p 48615 0 0 v 0 0 0 t 58.8',\n",
       " 'io set do 1 0',\n",
       " 'point abs p 49801 0 0 v 0 0 0 t 58.8',\n",
       " 'io set do 1 1',\n",
       " 'point abs p 50987 0 0 v 0 0 0 t 58.8',\n",
       " 'io set do 1 0',\n",
       " 'point abs p 52172 0 0 v 0 0 0 t 58.8',\n",
       " 'io set do 1 1',\n",
       " 'point abs p 53358 0 0 v 0 0 0 t 58.8',\n",
       " 'io set do 1 0',\n",
       " 'point abs p 54544 0 0 v 0 0 0 t 58.8',\n",
       " 'io set do 1 1',\n",
       " 'point abs p 55730 0 0 v 0 0 0 t 58.8',\n",
       " 'io set do 1 0',\n",
       " 'point abs p 56915 0 0 v 0 0 0 t 58.8',\n",
       " 'io set do 1 1',\n",
       " 'point abs p 58101 0 0 v 0 0 0 t 58.8',\n",
       " 'io set do 1 0',\n",
       " 'point abs p 59287 0 0 v 0 0 0 t 58.8',\n",
       " 'io set do 1 1',\n",
       " 'point abs p 60472 0 0 v 0 0 0 t 58.8',\n",
       " 'setup disable']"
      ]
     },
     "execution_count": 5,
     "metadata": {},
     "output_type": "execute_result"
    }
   ],
   "source": [
    "zpvt.pvt_buffer.get_content()"
   ]
  },
  {
   "cell_type": "code",
   "execution_count": 9,
   "id": "2ed05b2d",
   "metadata": {},
   "outputs": [
    {
     "ename": "TypeError",
     "evalue": "Provided value is not Measurement.",
     "output_type": "error",
     "traceback": [
      "\u001b[1;31m---------------------------------------------------------------------------\u001b[0m",
      "\u001b[1;31mTypeError\u001b[0m                                 Traceback (most recent call last)",
      "Cell \u001b[1;32mIn[9], line 1\u001b[0m\n\u001b[1;32m----> 1\u001b[0m \u001b[43mzpvt\u001b[49m\u001b[38;5;241;43m.\u001b[39;49m\u001b[43mlive_pvt\u001b[49m\u001b[38;5;241;43m.\u001b[39;49m\u001b[43mpoint\u001b[49m\u001b[43m(\u001b[49m\u001b[43m[\u001b[49m\u001b[38;5;241;43m0\u001b[39;49m\u001b[43m,\u001b[49m\u001b[38;5;241;43m39242\u001b[39;49m\u001b[43m,\u001b[49m\u001b[38;5;241;43m20157\u001b[39;49m\u001b[43m]\u001b[49m\u001b[43m,\u001b[49m\u001b[43m[\u001b[49m\u001b[38;5;241;43m0\u001b[39;49m\u001b[43m,\u001b[49m\u001b[38;5;241;43m0\u001b[39;49m\u001b[43m,\u001b[49m\u001b[38;5;241;43m0\u001b[39;49m\u001b[43m]\u001b[49m\u001b[43m,\u001b[49m\u001b[43m \u001b[49m\u001b[38;5;241;43m2000\u001b[39;49m\u001b[43m)\u001b[49m\n",
      "File \u001b[1;32m~\\miniconda3\\lib\\site-packages\\zaber_motion\\ascii\\pvt_sequence.py:278\u001b[0m, in \u001b[0;36mPvtSequence.point\u001b[1;34m(self, positions, velocities, time)\u001b[0m\n\u001b[0;32m    276\u001b[0m request\u001b[38;5;241m.\u001b[39mpvt \u001b[38;5;241m=\u001b[39m \u001b[38;5;28;01mTrue\u001b[39;00m\n\u001b[0;32m    277\u001b[0m request\u001b[38;5;241m.\u001b[39mtype \u001b[38;5;241m=\u001b[39m main_pb2\u001b[38;5;241m.\u001b[39mPvtPointRequest\u001b[38;5;241m.\u001b[39mABS\n\u001b[1;32m--> 278\u001b[0m request\u001b[38;5;241m.\u001b[39mpositions\u001b[38;5;241m.\u001b[39mextend([Measurement\u001b[38;5;241m.\u001b[39mto_protobuf(a) \u001b[38;5;28;01mfor\u001b[39;00m a \u001b[38;5;129;01min\u001b[39;00m positions])\n\u001b[0;32m    279\u001b[0m request\u001b[38;5;241m.\u001b[39mvelocities\u001b[38;5;241m.\u001b[39mextend([Measurement\u001b[38;5;241m.\u001b[39mto_protobuf(a) \u001b[38;5;28;01mfor\u001b[39;00m a \u001b[38;5;129;01min\u001b[39;00m velocities])\n\u001b[0;32m    280\u001b[0m request\u001b[38;5;241m.\u001b[39mtime\u001b[38;5;241m.\u001b[39mCopyFrom(Measurement\u001b[38;5;241m.\u001b[39mto_protobuf(time))\n",
      "File \u001b[1;32m~\\miniconda3\\lib\\site-packages\\zaber_motion\\ascii\\pvt_sequence.py:278\u001b[0m, in \u001b[0;36m<listcomp>\u001b[1;34m(.0)\u001b[0m\n\u001b[0;32m    276\u001b[0m request\u001b[38;5;241m.\u001b[39mpvt \u001b[38;5;241m=\u001b[39m \u001b[38;5;28;01mTrue\u001b[39;00m\n\u001b[0;32m    277\u001b[0m request\u001b[38;5;241m.\u001b[39mtype \u001b[38;5;241m=\u001b[39m main_pb2\u001b[38;5;241m.\u001b[39mPvtPointRequest\u001b[38;5;241m.\u001b[39mABS\n\u001b[1;32m--> 278\u001b[0m request\u001b[38;5;241m.\u001b[39mpositions\u001b[38;5;241m.\u001b[39mextend([\u001b[43mMeasurement\u001b[49m\u001b[38;5;241;43m.\u001b[39;49m\u001b[43mto_protobuf\u001b[49m\u001b[43m(\u001b[49m\u001b[43ma\u001b[49m\u001b[43m)\u001b[49m \u001b[38;5;28;01mfor\u001b[39;00m a \u001b[38;5;129;01min\u001b[39;00m positions])\n\u001b[0;32m    279\u001b[0m request\u001b[38;5;241m.\u001b[39mvelocities\u001b[38;5;241m.\u001b[39mextend([Measurement\u001b[38;5;241m.\u001b[39mto_protobuf(a) \u001b[38;5;28;01mfor\u001b[39;00m a \u001b[38;5;129;01min\u001b[39;00m velocities])\n\u001b[0;32m    280\u001b[0m request\u001b[38;5;241m.\u001b[39mtime\u001b[38;5;241m.\u001b[39mCopyFrom(Measurement\u001b[38;5;241m.\u001b[39mto_protobuf(time))\n",
      "File \u001b[1;32m~\\miniconda3\\lib\\site-packages\\zaber_motion\\measurement.py:70\u001b[0m, in \u001b[0;36mMeasurement.to_protobuf\u001b[1;34m(source)\u001b[0m\n\u001b[0;32m     67\u001b[0m     \u001b[38;5;28;01mreturn\u001b[39;00m pb_data\n\u001b[0;32m     69\u001b[0m \u001b[38;5;28;01mif\u001b[39;00m \u001b[38;5;129;01mnot\u001b[39;00m \u001b[38;5;28misinstance\u001b[39m(source, Measurement):\n\u001b[1;32m---> 70\u001b[0m     \u001b[38;5;28;01mraise\u001b[39;00m \u001b[38;5;167;01mTypeError\u001b[39;00m(\u001b[38;5;124m\"\u001b[39m\u001b[38;5;124mProvided value is not Measurement.\u001b[39m\u001b[38;5;124m\"\u001b[39m)\n\u001b[0;32m     72\u001b[0m pb_data\u001b[38;5;241m.\u001b[39mvalue \u001b[38;5;241m=\u001b[39m source\u001b[38;5;241m.\u001b[39mvalue\n\u001b[0;32m     73\u001b[0m pb_data\u001b[38;5;241m.\u001b[39munit \u001b[38;5;241m=\u001b[39m units_from_literals(source\u001b[38;5;241m.\u001b[39munit \u001b[38;5;129;01mor\u001b[39;00m Units\u001b[38;5;241m.\u001b[39mNATIVE)\u001b[38;5;241m.\u001b[39mvalue\n",
      "\u001b[1;31mTypeError\u001b[0m: Provided value is not Measurement."
     ]
    }
   ],
   "source": [
    "zpvt.live_pvt.point([0,39242,20157],[0,0,0], 2000)"
   ]
  },
  {
   "cell_type": "code",
   "execution_count": 1,
   "id": "4d0ed514",
   "metadata": {},
   "outputs": [
    {
     "name": "stdout",
     "output_type": "stream",
     "text": [
      "%pylab is deprecated, use %matplotlib inline and import the required libraries.\n",
      "Populating the interactive namespace from numpy and matplotlib\n"
     ]
    }
   ],
   "source": [
    "%pylab inline"
   ]
  },
  {
   "cell_type": "code",
   "execution_count": 2,
   "id": "87524a6b",
   "metadata": {},
   "outputs": [],
   "source": [
    "from zaber_motion import Units, Library, Measurement\n",
    "from zaber_motion.ascii import Connection, AllAxes\n",
    "from zaber_motion import *\n",
    "import pandas as pd"
   ]
  },
  {
   "cell_type": "code",
   "execution_count": 3,
   "id": "cb7ae885",
   "metadata": {},
   "outputs": [
    {
     "name": "stdout",
     "output_type": "stream",
     "text": [
      "Found 3 devices\n"
     ]
    }
   ],
   "source": [
    "Library.enable_device_db_store()\n",
    "connection=Connection.open_serial_port(\"COM4\")  # confirm that this is the right serial port\n",
    "\n",
    "device_list = connection.detect_devices()\n",
    "print(\"Found {} devices\".format(len(device_list)))\n",
    "\n",
    "device1 = device_list[0] "
   ]
  },
  {
   "cell_type": "code",
   "execution_count": 4,
   "id": "9436b8f3",
   "metadata": {},
   "outputs": [],
   "source": [
    "device2 = device_list[2] # Mirror rotation"
   ]
  },
  {
   "cell_type": "code",
   "execution_count": 95,
   "id": "12bb4f32",
   "metadata": {},
   "outputs": [
    {
     "data": {
      "text/plain": [
       "array([1, 2, 3])"
      ]
     },
     "execution_count": 95,
     "metadata": {},
     "output_type": "execute_result"
    }
   ],
   "source": [
    "df_zlut=zaber_pvt.read_table()\n",
    "zaber_pvt.table_to_pvt(zpvt.devices[0],df_zlut)"
   ]
  },
  {
   "cell_type": "code",
   "execution_count": 102,
   "id": "390e14e3",
   "metadata": {},
   "outputs": [],
   "source": [
    "zpvt.devices[0].all_axes.home()"
   ]
  },
  {
   "cell_type": "code",
   "execution_count": 112,
   "id": "671e7916",
   "metadata": {},
   "outputs": [
    {
     "ename": "AttributeError",
     "evalue": "module 'zaber_pvt' has no attribute 'make_table'",
     "output_type": "error",
     "traceback": [
      "\u001b[1;31m---------------------------------------------------------------------------\u001b[0m",
      "\u001b[1;31mAttributeError\u001b[0m                            Traceback (most recent call last)",
      "Cell \u001b[1;32mIn[112], line 1\u001b[0m\n\u001b[1;32m----> 1\u001b[0m \u001b[43mzaber_pvt\u001b[49m\u001b[38;5;241;43m.\u001b[39;49m\u001b[43mmake_table\u001b[49m()\n",
      "\u001b[1;31mAttributeError\u001b[0m: module 'zaber_pvt' has no attribute 'make_table'"
     ]
    }
   ],
   "source": [
    "zaber_pvt.make_table()"
   ]
  },
  {
   "cell_type": "code",
   "execution_count": 5,
   "id": "6dd9e5f2",
   "metadata": {},
   "outputs": [],
   "source": [
    "# !python -m pip install -U zaber_motion"
   ]
  },
  {
   "cell_type": "code",
   "execution_count": 71,
   "id": "e4d05caf",
   "metadata": {},
   "outputs": [
    {
     "ename": "IndexError",
     "evalue": "index 0 is out of bounds for axis 0 with size 0",
     "output_type": "error",
     "traceback": [
      "\u001b[1;31m---------------------------------------------------------------------------\u001b[0m",
      "\u001b[1;31mIndexError\u001b[0m                                Traceback (most recent call last)",
      "Cell \u001b[1;32mIn[71], line 14\u001b[0m\n\u001b[0;32m     10\u001b[0m df_zlut\u001b[38;5;241m=\u001b[39mdf_zlut\u001b[38;5;241m.\u001b[39miloc[idxs_subset,:]\n\u001b[0;32m     12\u001b[0m \u001b[38;5;66;03m# Times are a period, not absolute time\u001b[39;00m\n\u001b[0;32m     13\u001b[0m \u001b[38;5;66;03m# Assume they are equally spaced in time, and use the first one.\u001b[39;00m\n\u001b[1;32m---> 14\u001b[0m df_zlut\u001b[38;5;241m.\u001b[39miloc[:,\u001b[38;5;241m0\u001b[39m]\u001b[38;5;241m=\u001b[39m\u001b[43mnp\u001b[49m\u001b[38;5;241;43m.\u001b[39;49m\u001b[43mdiff\u001b[49m\u001b[43m(\u001b[49m\u001b[43m \u001b[49m\u001b[43mdf_zlut\u001b[49m\u001b[38;5;241;43m.\u001b[39;49m\u001b[43miloc\u001b[49m\u001b[43m[\u001b[49m\u001b[43m:\u001b[49m\u001b[43m,\u001b[49m\u001b[38;5;241;43m0\u001b[39;49m\u001b[43m]\u001b[49m\u001b[43m \u001b[49m\u001b[43m)\u001b[49m\u001b[43m[\u001b[49m\u001b[38;5;241;43m0\u001b[39;49m\u001b[43m]\u001b[49m\n\u001b[0;32m     17\u001b[0m \u001b[38;5;66;03m# https://software.zaber.com/motion-library/docs/guides/pvt: \u001b[39;00m\n\u001b[0;32m     18\u001b[0m \u001b[38;5;66;03m# Make the velocity of the last one zero: necessary, it seems !\u001b[39;00m\n\u001b[0;32m     19\u001b[0m \n\u001b[0;32m     20\u001b[0m \u001b[38;5;66;03m# Let Zaber figure out what the velocities should be\u001b[39;00m\n\u001b[0;32m     21\u001b[0m \u001b[38;5;28;01mif\u001b[39;00m NO_VELOCITY:\n",
      "\u001b[1;31mIndexError\u001b[0m: index 0 is out of bounds for axis 0 with size 0"
     ]
    }
   ],
   "source": [
    "df_zlut=pd.read_excel('z_table.xlsx')\n",
    "df_zlut.head()\n",
    "\n",
    "NO_VELOCITY = True\n",
    "# True=Let Zaber figure out what the velocities should be\n",
    "# False=Use computed vels from xls. But the sign is important, unlike in xls.\n",
    "\n",
    "step_size=50 # Can go through subsets of table with larger #s\n",
    "idxs_subset=np.arange(0,50,step_size)\n",
    "df_zlut=df_zlut.iloc[idxs_subset,:]\n",
    "\n",
    "# Times are a period, not absolute time\n",
    "# Assume they are equally spaced in time, and use the first one.\n",
    "df_zlut.iloc[:,0]=np.diff( df_zlut.iloc[:,0] )[0]\n",
    "\n",
    "\n",
    "# https://software.zaber.com/motion-library/docs/guides/pvt: \n",
    "# Make the velocity of the last one zero: necessary, it seems !\n",
    "\n",
    "# Let Zaber figure out what the velocities should be\n",
    "if NO_VELOCITY:\n",
    "    df_zlut.iloc[:,1]=None\n",
    "    df_zlut.iloc[0,1]=0\n",
    "    df_zlut.iloc[-1,1]=0 #len(df_zlut.index),\"Velocity (mm/s)\"]=0\n",
    "\n",
    "    #df_zlut.iloc[df_zlut[\"Displacement(mm)\"]==0,1]=0\n",
    "print( df_zlut)"
   ]
  },
  {
   "cell_type": "code",
   "execution_count": 8,
   "id": "8afb34cf",
   "metadata": {},
   "outputs": [],
   "source": [
    "ax1_sweep_lims=[0,10] # mm\n",
    "ax3_sweep_lims=[10,0] # mm"
   ]
  },
  {
   "cell_type": "code",
   "execution_count": 9,
   "id": "45020d12",
   "metadata": {},
   "outputs": [
    {
     "name": "stdout",
     "output_type": "stream",
     "text": [
      "<zaber_motion.ascii.pvt_buffer.PvtBuffer object at 0x00000206CA5459C0>\n",
      "Device 1 -> PVT Sequence 1 (Disabled)\n",
      "['setup store 1 3', 'io set do 1 1', 'point abs p 0 3924 20157 v 0 0 0 t 600.0', 'io set do 1 1', 'point abs p 5039 1369 15118 v 13761 -5203 -13761 t 600.0', 'io set do 1 1', 'point abs p 10079 113 10079 v 13761 -1522 -13761 t 600.0', 'io set do 1 1', 'point abs p 15118 254 5039 v 13761 2277 -13761 t 600.0', 'io set do 1 1', 'point abs p 20157 1781 0 v 0 0 0 t 600.0', 'io set do 1 0', 'setup disable']\n"
     ]
    }
   ],
   "source": [
    "#ax0=device1.get_axis(2)\n",
    "\n",
    "pvt = device1.get_pvt(1)\n",
    "pvt.disable()\n",
    "\n",
    "pvt_buffer = device1.get_pvt_buffer(1)\n",
    "pvt_buffer.erase()\n",
    "\n",
    "NDIMS=3\n",
    "arr_axes=np.arange(NDIMS)+1\n",
    "# set up PVT to store points to PVT buffer 1 and\n",
    "# to use the first axis for unit conversion\n",
    "pvt.setup_store(pvt_buffer, *arr_axes )\n",
    "\n",
    "# add PVT points from LUT in Excel file\n",
    "for index, row in df_zlut.iterrows():\n",
    "\n",
    "    # Add each point in a loop\n",
    "    if NDIMS==1:\n",
    "        poses=[Measurement(row[\"Displacement(mm)\"], Units.LENGTH_MILLIMETRES)]\n",
    "    elif NDIMS==2:\n",
    "        ax1_pos = ax1_sweep_lims[0] + (index)*(ax1_sweep_lims[1]-ax1_sweep_lims[0])/df_zlut.index[-1]\n",
    "        poses=[Measurement(ax1_pos, Units.LENGTH_MILLIMETRES),\n",
    "               Measurement(row[\"Displacement(mm)\"], Units.LENGTH_MILLIMETRES)]\n",
    "    else: # Assume 3\n",
    "        ax1_pos = ax1_sweep_lims[0] + (index)*(ax1_sweep_lims[1]-ax1_sweep_lims[0])/df_zlut.index[-1]\n",
    "        ax3_pos = ax3_sweep_lims[0] + (index)*(ax3_sweep_lims[1]-ax3_sweep_lims[0])/df_zlut.index[-1]\n",
    "        poses=[Measurement(ax1_pos, Units.LENGTH_MILLIMETRES),\n",
    "               Measurement(row[\"Displacement(mm)\"]/10.0, Units.LENGTH_MILLIMETRES),\n",
    "               Measurement(ax3_pos, Units.LENGTH_MILLIMETRES) ];\n",
    "        \n",
    "    if row[\"Velocity (mm/s)\"] is None:\n",
    "        vels=[None]*NDIMS\n",
    "    else:\n",
    "        vels=[Measurement(row[\"Velocity (mm/s)\"], Units.VELOCITY_MILLIMETRES_PER_SECOND)]*NDIMS\n",
    "           \n",
    "    # Toggle the DIO (first channel): at 0 will be 1, at 1 will be 0, at 2 will be 1, etc..\n",
    "    # use +1 mod 2. TODO (this is pretty hacky and inflexible)\n",
    "    pvt.set_digital_output(1,(index+1)%2)\n",
    "    pvt.point(poses, vels , Measurement(row[\"Time(s)\"], Units.TIME_SECONDS) )\n",
    "    #time.sleep(0.01)\n",
    "pvt.set_digital_output(1,0)\n",
    "\n",
    "# finish writing to the buffer\n",
    "pvt.disable()\n",
    "\n",
    "print(pvt_buffer)\n",
    "print( pvt )\n",
    "print( pvt_buffer.get_content() )"
   ]
  },
  {
   "cell_type": "code",
   "execution_count": 10,
   "id": "507739af",
   "metadata": {},
   "outputs": [],
   "source": [
    "# execute:\n",
    "pvt = device1.get_pvt(2)\n",
    "pvt.disable()\n",
    "pvt.setup_live(*arr_axes) # Execute on axis Z\n",
    "\n",
    "# the sequence will now execute the stored points\n",
    "pvt.call(pvt_buffer)\n",
    "\n",
    "#print (pvt."
   ]
  },
  {
   "cell_type": "code",
   "execution_count": 65,
   "id": "02c8ec6e",
   "metadata": {},
   "outputs": [],
   "source": [
    "pvt.call(pvt_buffer)\n",
    "amt_deg=45\n",
    "device2.get_axis(1).move_absolute(amt_deg, Units.ANGLE_DEGREES,\n",
    "                                  velocity=amt_deg/3.0, velocity_unit=Units.ANGULAR_VELOCITY_DEGREES_PER_SECOND,\n",
    "                                  wait_until_idle=False)"
   ]
  },
  {
   "cell_type": "code",
   "execution_count": null,
   "id": "3844c9d8",
   "metadata": {},
   "outputs": [],
   "source": [
    "pvt.call(pvt_buffer)"
   ]
  },
  {
   "cell_type": "code",
   "execution_count": 64,
   "id": "6f826406",
   "metadata": {},
   "outputs": [],
   "source": [
    "device2.get_axis(1).home()"
   ]
  },
  {
   "cell_type": "code",
   "execution_count": 54,
   "id": "655275e7",
   "metadata": {},
   "outputs": [
    {
     "name": "stdout",
     "output_type": "stream",
     "text": [
      "Help on method move_absolute in module zaber_motion.ascii.axis:\n",
      "\n",
      "move_absolute(position: float, unit: Union[zaber_motion.units.Units, Literal['m', 'cm', 'mm', 'µm', 'um', 'nm', 'in', '°', 'deg', 'rad']] = <Units.NATIVE: ''>, wait_until_idle: bool = True, velocity: float = 0, velocity_unit: Union[zaber_motion.units.Units, Literal['m/s', 'cm/s', 'mm/s', 'µm/s', 'um/s', 'nm/s', 'in/s', '°/s', 'deg/s', 'rad/s']] = <Units.NATIVE: ''>, acceleration: float = 0, acceleration_unit: Union[zaber_motion.units.Units, Literal['m/s²', 'm/s^2', 'cm/s²', 'cm/s^2', 'mm/s²', 'mm/s^2', 'µm/s²', 'um/s^2', 'nm/s²', 'nm/s^2', 'in/s²', 'in/s^2', '°/s²', 'deg/s^2', 'rad/s²', 'rad/s^2']] = <Units.NATIVE: ''>) -> None method of zaber_motion.ascii.axis.Axis instance\n",
      "    Move axis to absolute position.\n",
      "    \n",
      "    Args:\n",
      "        position: Absolute position.\n",
      "        unit: Units of position.\n",
      "        wait_until_idle: Determines whether function should return after the movement is finished or just started.\n",
      "        velocity: Movement velocity.\n",
      "            Default value of 0 indicates that the maxspeed setting is used instead.\n",
      "            Requires at least Firmware 7.25.\n",
      "        velocity_unit: Units of velocity.\n",
      "        acceleration: Movement acceleration.\n",
      "            Default value of 0 indicates that the accel setting is used instead.\n",
      "            Requires at least Firmware 7.25.\n",
      "        acceleration_unit: Units of acceleration.\n",
      "\n"
     ]
    }
   ],
   "source": [
    "help( device2.get_axis(1).move_absolute )"
   ]
  },
  {
   "cell_type": "code",
   "execution_count": 48,
   "id": "86fa3784",
   "metadata": {},
   "outputs": [
    {
     "name": "stdout",
     "output_type": "stream",
     "text": [
      "0.015173673629760742\n"
     ]
    }
   ],
   "source": [
    "import time\n",
    "t1=time.time()\n",
    "amt_deg=90\n",
    "device2.get_axis(1).move_absolute(amt_deg, Units.ANGLE_DEGREES, velocity=amt_deg/3.0, wait_until_idle=False)\n",
    "pvt.call(pvt_buffer)\n",
    "print ( time.time() - t1)"
   ]
  },
  {
   "cell_type": "code",
   "execution_count": 40,
   "id": "96369c05",
   "metadata": {},
   "outputs": [
    {
     "name": "stdout",
     "output_type": "stream",
     "text": [
      "9.398441314697266\n"
     ]
    }
   ],
   "source": [
    "print ( time.time() - t1)"
   ]
  },
  {
   "cell_type": "code",
   "execution_count": 26,
   "id": "65ebf5d6",
   "metadata": {},
   "outputs": [],
   "source": []
  },
  {
   "cell_type": "code",
   "execution_count": 27,
   "id": "2faa8585",
   "metadata": {},
   "outputs": [
    {
     "data": {
      "text/plain": [
       "1.8900182247161865"
      ]
     },
     "execution_count": 27,
     "metadata": {},
     "output_type": "execute_result"
    }
   ],
   "source": [
    "time.time()-t1"
   ]
  },
  {
   "cell_type": "code",
   "execution_count": 32,
   "id": "32b7b7be",
   "metadata": {},
   "outputs": [],
   "source": [
    "d3=device_list[2]\n",
    "\n",
    "amt_deg=10\n",
    "pvt.call(pvt_buffer)\n",
    "device2.get_axis(1).move_absolute(amt_deg, Units.NATIVE, velocity=amt_deg/3.0, wait_until_idle=False)\n",
    "#d3.get_axis(1).move_absolute(amt_deg, Units.ANGLE_DEGREES, velocity=amt_deg/3.0, wait_until_idle=False)\n",
    "#,wait_until_idle=False)"
   ]
  },
  {
   "cell_type": "code",
   "execution_count": 13,
   "id": "36e1a3d5",
   "metadata": {},
   "outputs": [
    {
     "data": {
      "text/plain": [
       "[None, None, None]"
      ]
     },
     "execution_count": 13,
     "metadata": {},
     "output_type": "execute_result"
    }
   ],
   "source": [
    "[device1.get_axis(n).home() for n in [1,2,3]]"
   ]
  },
  {
   "cell_type": "code",
   "execution_count": 14,
   "id": "3d1da2d7",
   "metadata": {},
   "outputs": [],
   "source": [
    "axs=[device1.get_axis(n) for n in [1,2,3]]"
   ]
  },
  {
   "cell_type": "code",
   "execution_count": 17,
   "id": "91d94990",
   "metadata": {},
   "outputs": [],
   "source": [
    "axs[0].move_absolute(0)\n",
    "axs[1].move_absolute(40000)\n",
    "axs[2].move_absolute(20000)"
   ]
  },
  {
   "cell_type": "code",
   "execution_count": 19,
   "id": "61c7eddc",
   "metadata": {},
   "outputs": [
    {
     "ename": "NameError",
     "evalue": "name 'ax1' is not defined",
     "output_type": "error",
     "traceback": [
      "\u001b[1;31m---------------------------------------------------------------------------\u001b[0m",
      "\u001b[1;31mNameError\u001b[0m                                 Traceback (most recent call last)",
      "Cell \u001b[1;32mIn[19], line 1\u001b[0m\n\u001b[1;32m----> 1\u001b[0m \u001b[43max1\u001b[49m\u001b[38;5;241m.\u001b[39mhome()\n\u001b[0;32m      2\u001b[0m ax2\u001b[38;5;241m.\u001b[39mhome()\n\u001b[0;32m      3\u001b[0m ax3\u001b[38;5;241m.\u001b[39mhome()\n",
      "\u001b[1;31mNameError\u001b[0m: name 'ax1' is not defined"
     ]
    }
   ],
   "source": [
    "ax1.home()\n",
    "ax2.home()\n",
    "ax3.home()"
   ]
  },
  {
   "cell_type": "code",
   "execution_count": 246,
   "id": "182decd2",
   "metadata": {},
   "outputs": [
    {
     "data": {
      "text/plain": [
       "[20157.0, 17809.0, 10.0]"
      ]
     },
     "execution_count": 246,
     "metadata": {},
     "output_type": "execute_result"
    }
   ],
   "source": [
    "[ax1.get_position() for ax1 in axs]"
   ]
  },
  {
   "cell_type": "code",
   "execution_count": 4,
   "id": "6d2e4dfe",
   "metadata": {},
   "outputs": [
    {
     "data": {
      "text/plain": [
       "'{\"context\":{\"v\":3,\"type\":\"peripheral\",\"fw\":{\"major\":7,\"minor\":33,\"build\":14091}},\"axis\":{\"peripheralId\":\"70131\",\"serial\":\"112556\",\"settings\":{\"cloop.continuous.enable\":\"0\",\"cloop.displace.tolerance\":\"128\",\"cloop.enable\":\"1\",\"cloop.recovery.enable\":\"0\",\"cloop.stall.action\":\"0\",\"cloop.stall.detect.mode\":\"0\",\"cloop.stall.tolerance\":\"512\",\"cloop.timeout\":\"100\",\"driver.current.hold\":\"35\",\"driver.current.run\":\"70\",\"ictrl.advance.a\":\"0.000000000\",\"ictrl.advance.offset\":\"4096.000000000\",\"ictrl.afcff.inductance\":\"0.088000000\",\"ictrl.afcff.ke\":\"7.781229568\",\"ictrl.afcff.ki\":\"0.000000000\",\"ictrl.afcff.max\":\"48000.000851968\",\"ictrl.afcff.ss\":\"0.000000000\",\"ictrl.afcff.ss.max\":\"0.999899840\",\"ictrl.ff.kd\":\"0.088000000\",\"ictrl.ff.kp\":\"0.000999999\",\"ictrl.gain.coldmult\":\"0.299999968\",\"ictrl.pi.ki\":\"0.000028998\",\"ictrl.pi.kp\":\"0.011596000\",\"ictrl.type\":\"6\",\"knob.dir\":\"0\",\"knob.distance\":\"640\",\"knob.enable\":\"1\",\"knob.maxspeed\":\"153600\",\"knob.mode\":\"0\",\"knob.speedprofile\":\"2\",\"limit.approach.maxspeed\":\"153600\",\"limit.detect.decelonly\":\"820\",\"limit.detect.maxspeed\":\"19200\",\"limit.home.action\":\"2\",\"limit.home.offset\":\"0\",\"limit.home.posupdate\":\"0\",\"limit.home.preset\":\"0\",\"limit.max\":\"154202\",\"limit.min\":\"0\",\"maxspeed\":\"153600\",\"motion.accel.ramptime\":\"0.0\",\"motion.accelonly\":\"205\",\"motion.decelonly\":\"205\",\"motion.index.dist\":\"64\",\"resolution\":\"64\"},\"storedPositions\":{\"1\":0,\"10\":0,\"11\":0,\"12\":0,\"13\":0,\"14\":0,\"15\":0,\"16\":0,\"2\":0,\"3\":0,\"4\":0,\"5\":0,\"6\":0,\"7\":0,\"8\":0,\"9\":0}}}'"
      ]
     },
     "execution_count": 4,
     "metadata": {},
     "output_type": "execute_result"
    }
   ],
   "source": [
    "ax1=device1.get_axis(1)\n",
    "ax1.get_state()"
   ]
  },
  {
   "cell_type": "code",
   "execution_count": 7,
   "id": "30b7010e",
   "metadata": {},
   "outputs": [
    {
     "name": "stdout",
     "output_type": "stream",
     "text": [
      "{\"context\":{\"v\":3,\"type\":\"peripheral\",\"fw\":{\"major\":7,\"minor\":33,\"build\":14091}},\"axis\":{\"peripheralId\":\"70134\",\"serial\":\"112555\",\"settings\":{\"cloop.continuous.enable\":\"0\",\"cloop.displace.tolerance\":\"128\",\"cloop.enable\":\"1\",\"cloop.recovery.enable\":\"0\",\"cloop.stall.action\":\"0\",\"cloop.stall.detect.mode\":\"0\",\"cloop.stall.tolerance\":\"512\",\"cloop.timeout\":\"100\",\"driver.current.hold\":\"35\",\"driver.current.run\":\"70\",\"ictrl.advance.a\":\"0.000000000\",\"ictrl.advance.offset\":\"4096.000000000\",\"ictrl.afcff.inductance\":\"0.088000000\",\"ictrl.afcff.ke\":\"7.781229568\",\"ictrl.afcff.ki\":\"0.000000000\",\"ictrl.afcff.max\":\"48000.000851968\",\"ictrl.afcff.ss\":\"0.000000000\",\"ictrl.afcff.ss.max\":\"0.999899840\",\"ictrl.ff.kd\":\"0.088000000\",\"ictrl.ff.kp\":\"0.000999999\",\"ictrl.gain.coldmult\":\"0.299999968\",\"ictrl.pi.ki\":\"0.000028998\",\"ictrl.pi.kp\":\"0.011596000\",\"ictrl.type\":\"6\",\"knob.dir\":\"0\",\"knob.distance\":\"640\",\"knob.enable\":\"1\",\"knob.maxspeed\":\"153600\",\"knob.mode\":\"0\",\"knob.speedprofile\":\"2\",\"limit.approach.maxspeed\":\"153600\",\"limit.detect.decelonly\":\"820\",\"limit.detect.maxspeed\":\"19200\",\"limit.home.action\":\"2\",\"limit.home.offset\":\"0\",\"limit.home.posupdate\":\"0\",\"limit.home.preset\":\"0\",\"limit.max\":\"305381\",\"limit.min\":\"0\",\"maxspeed\":\"153600\",\"motion.accel.ramptime\":\"0.0\",\"motion.accelonly\":\"205\",\"motion.decelonly\":\"205\",\"motion.index.dist\":\"64\",\"resolution\":\"64\"},\"storedPositions\":{\"1\":0,\"10\":0,\"11\":0,\"12\":0,\"13\":0,\"14\":0,\"15\":0,\"16\":0,\"2\":0,\"3\":0,\"4\":0,\"5\":0,\"6\":0,\"7\":0,\"8\":0,\"9\":0}}}\n"
     ]
    }
   ],
   "source": [
    "ax3=device1.get_axis(3)\n",
    "print( ax3.get_state() )\n"
   ]
  },
  {
   "cell_type": "code",
   "execution_count": 178,
   "id": "1ac7ff09",
   "metadata": {},
   "outputs": [],
   "source": [
    "ax3.home()"
   ]
  },
  {
   "cell_type": "code",
   "execution_count": 180,
   "id": "c84d45fd",
   "metadata": {},
   "outputs": [],
   "source": [
    "ax3.move_absolute(10)"
   ]
  },
  {
   "cell_type": "code",
   "execution_count": 18,
   "id": "738fb83f",
   "metadata": {},
   "outputs": [
    {
     "data": {
      "text/plain": [
       "Axis 3 (LSQ150B-E01T3A) -> Device 1 SN: 112052 (X-MCC3 (rev 2/3)) -> Connection 1 (ASCII Serial port: COM4)"
      ]
     },
     "execution_count": 18,
     "metadata": {},
     "output_type": "execute_result"
    }
   ],
   "source": [
    "device1.get_axis(3)"
   ]
  },
  {
   "cell_type": "code",
   "execution_count": 66,
   "id": "a936e318",
   "metadata": {},
   "outputs": [],
   "source": [
    "ax_r1=zpvt.devices[1].get_axis(1)"
   ]
  },
  {
   "cell_type": "code",
   "execution_count": 67,
   "id": "b7970570",
   "metadata": {},
   "outputs": [],
   "source": [
    "ax_r1.move_relative(-2000)"
   ]
  },
  {
   "cell_type": "code",
   "execution_count": null,
   "id": "8b92cd41",
   "metadata": {},
   "outputs": [],
   "source": []
  }
 ],
 "metadata": {
  "kernelspec": {
   "display_name": "Python 3 (ipykernel)",
   "language": "python",
   "name": "python3"
  },
  "language_info": {
   "codemirror_mode": {
    "name": "ipython",
    "version": 3
   },
   "file_extension": ".py",
   "mimetype": "text/x-python",
   "name": "python",
   "nbconvert_exporter": "python",
   "pygments_lexer": "ipython3",
   "version": "3.10.8"
  }
 },
 "nbformat": 4,
 "nbformat_minor": 5
}
