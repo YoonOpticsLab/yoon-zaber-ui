{
 "cells": [
  {
   "cell_type": "code",
   "execution_count": 6,
   "id": "4d0ed514",
   "metadata": {},
   "outputs": [
    {
     "name": "stdout",
     "output_type": "stream",
     "text": [
      "%pylab is deprecated, use %matplotlib inline and import the required libraries.\n",
      "Populating the interactive namespace from numpy and matplotlib\n"
     ]
    }
   ],
   "source": [
    "%pylab inline"
   ]
  },
  {
   "cell_type": "code",
   "execution_count": 2,
   "id": "87524a6b",
   "metadata": {},
   "outputs": [],
   "source": [
    "from zaber_motion import Units, Library, Measurement\n",
    "from zaber_motion.ascii import Connection, AllAxes\n",
    "from zaber_motion import *\n",
    "import pandas as pd"
   ]
  },
  {
   "cell_type": "code",
   "execution_count": 3,
   "id": "cb7ae885",
   "metadata": {},
   "outputs": [
    {
     "name": "stdout",
     "output_type": "stream",
     "text": [
      "Found 3 devices\n"
     ]
    }
   ],
   "source": [
    "Library.enable_device_db_store()\n",
    "connection=Connection.open_serial_port(\"COM4\")  # confirm that this is the right serial port\n",
    "\n",
    "device_list = connection.detect_devices()\n",
    "print(\"Found {} devices\".format(len(device_list)))\n",
    "\n",
    "device1 = device_list[0] "
   ]
  },
  {
   "cell_type": "code",
   "execution_count": 4,
   "id": "9436b8f3",
   "metadata": {},
   "outputs": [],
   "source": [
    "device2 = device_list[2] # Mirror rotation"
   ]
  },
  {
   "cell_type": "code",
   "execution_count": 5,
   "id": "6dd9e5f2",
   "metadata": {},
   "outputs": [],
   "source": [
    "# !python -m pip install -U zaber_motion"
   ]
  },
  {
   "cell_type": "code",
   "execution_count": 7,
   "id": "e4d05caf",
   "metadata": {},
   "outputs": [
    {
     "name": "stdout",
     "output_type": "stream",
     "text": [
      "    Time(s) Velocity (mm/s)  Degrees  Displacement(mm)\n",
      "0       0.6               0    -38.4         19.467589\n",
      "10      0.6            None    -22.4          6.790857\n",
      "20      0.6            None     -6.4          0.560887\n",
      "30      0.6            None      9.6          1.260357\n",
      "40      0.6               0     25.6          8.835073\n"
     ]
    }
   ],
   "source": [
    "df_zlut=pd.read_excel('z_table.xlsx')\n",
    "df_zlut.head()\n",
    "\n",
    "NO_VELOCITY = True\n",
    "# True=Let Zaber figure out what the velocities should be\n",
    "# False=Use computed vels from xls. But the sign is important, unlike in xls.\n",
    "\n",
    "step_size=10 # Can go through subsets of table with larger #s\n",
    "idxs_subset=np.arange(0,50,step_size)\n",
    "df_zlut=df_zlut.iloc[idxs_subset,:]\n",
    "\n",
    "# Times are a period, not absolute time\n",
    "# Assume they are equally spaced in time, and use the first one.\n",
    "df_zlut.iloc[:,0]=np.diff( df_zlut.iloc[:,0] )[0]\n",
    "\n",
    "\n",
    "# https://software.zaber.com/motion-library/docs/guides/pvt: \n",
    "# Make the velocity of the last one zero: necessary, it seems !\n",
    "\n",
    "# Let Zaber figure out what the velocities should be\n",
    "if NO_VELOCITY:\n",
    "    df_zlut.iloc[:,1]=None\n",
    "    df_zlut.iloc[0,1]=0\n",
    "    df_zlut.iloc[-1,1]=0 #len(df_zlut.index),\"Velocity (mm/s)\"]=0\n",
    "\n",
    "    #df_zlut.iloc[df_zlut[\"Displacement(mm)\"]==0,1]=0\n",
    "print( df_zlut)"
   ]
  },
  {
   "cell_type": "code",
   "execution_count": 8,
   "id": "8afb34cf",
   "metadata": {},
   "outputs": [],
   "source": [
    "ax1_sweep_lims=[0,10] # mm\n",
    "ax3_sweep_lims=[10,0] # mm"
   ]
  },
  {
   "cell_type": "code",
   "execution_count": 9,
   "id": "45020d12",
   "metadata": {},
   "outputs": [
    {
     "name": "stdout",
     "output_type": "stream",
     "text": [
      "<zaber_motion.ascii.pvt_buffer.PvtBuffer object at 0x00000206CA5459C0>\n",
      "Device 1 -> PVT Sequence 1 (Disabled)\n",
      "['setup store 1 3', 'io set do 1 1', 'point abs p 0 3924 20157 v 0 0 0 t 600.0', 'io set do 1 1', 'point abs p 5039 1369 15118 v 13761 -5203 -13761 t 600.0', 'io set do 1 1', 'point abs p 10079 113 10079 v 13761 -1522 -13761 t 600.0', 'io set do 1 1', 'point abs p 15118 254 5039 v 13761 2277 -13761 t 600.0', 'io set do 1 1', 'point abs p 20157 1781 0 v 0 0 0 t 600.0', 'io set do 1 0', 'setup disable']\n"
     ]
    }
   ],
   "source": [
    "#ax0=device1.get_axis(2)\n",
    "\n",
    "pvt = device1.get_pvt(1)\n",
    "pvt.disable()\n",
    "\n",
    "pvt_buffer = device1.get_pvt_buffer(1)\n",
    "pvt_buffer.erase()\n",
    "\n",
    "NDIMS=3\n",
    "arr_axes=np.arange(NDIMS)+1\n",
    "# set up PVT to store points to PVT buffer 1 and\n",
    "# to use the first axis for unit conversion\n",
    "pvt.setup_store(pvt_buffer, *arr_axes )\n",
    "\n",
    "# add PVT points from LUT in Excel file\n",
    "for index, row in df_zlut.iterrows():\n",
    "\n",
    "    # Add each point in a loop\n",
    "    if NDIMS==1:\n",
    "        poses=[Measurement(row[\"Displacement(mm)\"], Units.LENGTH_MILLIMETRES)]\n",
    "    elif NDIMS==2:\n",
    "        ax1_pos = ax1_sweep_lims[0] + (index)*(ax1_sweep_lims[1]-ax1_sweep_lims[0])/df_zlut.index[-1]\n",
    "        poses=[Measurement(ax1_pos, Units.LENGTH_MILLIMETRES),\n",
    "               Measurement(row[\"Displacement(mm)\"], Units.LENGTH_MILLIMETRES)]\n",
    "    else: # Assume 3\n",
    "        ax1_pos = ax1_sweep_lims[0] + (index)*(ax1_sweep_lims[1]-ax1_sweep_lims[0])/df_zlut.index[-1]\n",
    "        ax3_pos = ax3_sweep_lims[0] + (index)*(ax3_sweep_lims[1]-ax3_sweep_lims[0])/df_zlut.index[-1]\n",
    "        poses=[Measurement(ax1_pos, Units.LENGTH_MILLIMETRES),\n",
    "               Measurement(row[\"Displacement(mm)\"]/10.0, Units.LENGTH_MILLIMETRES),\n",
    "               Measurement(ax3_pos, Units.LENGTH_MILLIMETRES) ];\n",
    "        \n",
    "    if row[\"Velocity (mm/s)\"] is None:\n",
    "        vels=[None]*NDIMS\n",
    "    else:\n",
    "        vels=[Measurement(row[\"Velocity (mm/s)\"], Units.VELOCITY_MILLIMETRES_PER_SECOND)]*NDIMS\n",
    "           \n",
    "    # Toggle the DIO (first channel): at 0 will be 1, at 1 will be 0, at 2 will be 1, etc..\n",
    "    # use +1 mod 2. TODO (this is pretty hacky and inflexible)\n",
    "    pvt.set_digital_output(1,(index+1)%2)\n",
    "    pvt.point(poses, vels , Measurement(row[\"Time(s)\"], Units.TIME_SECONDS) )\n",
    "    #time.sleep(0.01)\n",
    "pvt.set_digital_output(1,0)\n",
    "\n",
    "# finish writing to the buffer\n",
    "pvt.disable()\n",
    "\n",
    "print(pvt_buffer)\n",
    "print( pvt )\n",
    "print( pvt_buffer.get_content() )"
   ]
  },
  {
   "cell_type": "code",
   "execution_count": 10,
   "id": "507739af",
   "metadata": {},
   "outputs": [],
   "source": [
    "# execute:\n",
    "pvt = device1.get_pvt(2)\n",
    "pvt.disable()\n",
    "pvt.setup_live(*arr_axes) # Execute on axis Z\n",
    "\n",
    "# the sequence will now execute the stored points\n",
    "pvt.call(pvt_buffer)\n",
    "\n",
    "#print (pvt."
   ]
  },
  {
   "cell_type": "code",
   "execution_count": 65,
   "id": "c5063ed9",
   "metadata": {},
   "outputs": [],
   "source": [
    "pvt.call(pvt_buffer)\n",
    "amt_deg=45\n",
    "device2.get_axis(1).move_absolute(amt_deg, Units.ANGLE_DEGREES,\n",
    "                                  velocity=amt_deg/3.0, velocity_unit=Units.ANGULAR_VELOCITY_DEGREES_PER_SECOND,\n",
    "                                  wait_until_idle=False)"
   ]
  },
  {
   "cell_type": "code",
   "execution_count": null,
   "id": "8cb30b39",
   "metadata": {},
   "outputs": [],
   "source": [
    "pvt.call(pvt_buffer)"
   ]
  },
  {
   "cell_type": "code",
   "execution_count": 64,
   "id": "6f826406",
   "metadata": {},
   "outputs": [],
   "source": [
    "device2.get_axis(1).home()"
   ]
  },
  {
   "cell_type": "code",
   "execution_count": 54,
   "id": "1a246cd1",
   "metadata": {},
   "outputs": [
    {
     "name": "stdout",
     "output_type": "stream",
     "text": [
      "Help on method move_absolute in module zaber_motion.ascii.axis:\n",
      "\n",
      "move_absolute(position: float, unit: Union[zaber_motion.units.Units, Literal['m', 'cm', 'mm', 'µm', 'um', 'nm', 'in', '°', 'deg', 'rad']] = <Units.NATIVE: ''>, wait_until_idle: bool = True, velocity: float = 0, velocity_unit: Union[zaber_motion.units.Units, Literal['m/s', 'cm/s', 'mm/s', 'µm/s', 'um/s', 'nm/s', 'in/s', '°/s', 'deg/s', 'rad/s']] = <Units.NATIVE: ''>, acceleration: float = 0, acceleration_unit: Union[zaber_motion.units.Units, Literal['m/s²', 'm/s^2', 'cm/s²', 'cm/s^2', 'mm/s²', 'mm/s^2', 'µm/s²', 'um/s^2', 'nm/s²', 'nm/s^2', 'in/s²', 'in/s^2', '°/s²', 'deg/s^2', 'rad/s²', 'rad/s^2']] = <Units.NATIVE: ''>) -> None method of zaber_motion.ascii.axis.Axis instance\n",
      "    Move axis to absolute position.\n",
      "    \n",
      "    Args:\n",
      "        position: Absolute position.\n",
      "        unit: Units of position.\n",
      "        wait_until_idle: Determines whether function should return after the movement is finished or just started.\n",
      "        velocity: Movement velocity.\n",
      "            Default value of 0 indicates that the maxspeed setting is used instead.\n",
      "            Requires at least Firmware 7.25.\n",
      "        velocity_unit: Units of velocity.\n",
      "        acceleration: Movement acceleration.\n",
      "            Default value of 0 indicates that the accel setting is used instead.\n",
      "            Requires at least Firmware 7.25.\n",
      "        acceleration_unit: Units of acceleration.\n",
      "\n"
     ]
    }
   ],
   "source": [
    "help( device2.get_axis(1).move_absolute )"
   ]
  },
  {
   "cell_type": "code",
   "execution_count": 48,
   "id": "86fa3784",
   "metadata": {},
   "outputs": [
    {
     "name": "stdout",
     "output_type": "stream",
     "text": [
      "0.015173673629760742\n"
     ]
    }
   ],
   "source": [
    "import time\n",
    "t1=time.time()\n",
    "amt_deg=90\n",
    "device2.get_axis(1).move_absolute(amt_deg, Units.ANGLE_DEGREES, velocity=amt_deg/3.0, wait_until_idle=False)\n",
    "pvt.call(pvt_buffer)\n",
    "print ( time.time() - t1)"
   ]
  },
  {
   "cell_type": "code",
   "execution_count": 40,
   "id": "616951b4",
   "metadata": {},
   "outputs": [
    {
     "name": "stdout",
     "output_type": "stream",
     "text": [
      "9.398441314697266\n"
     ]
    }
   ],
   "source": [
    "print ( time.time() - t1)"
   ]
  },
  {
   "cell_type": "code",
   "execution_count": 26,
   "id": "223cd24c",
   "metadata": {},
   "outputs": [],
   "source": []
  },
  {
   "cell_type": "code",
   "execution_count": 27,
   "id": "33f1967a",
   "metadata": {},
   "outputs": [
    {
     "data": {
      "text/plain": [
       "1.8900182247161865"
      ]
     },
     "execution_count": 27,
     "metadata": {},
     "output_type": "execute_result"
    }
   ],
   "source": [
    "time.time()-t1"
   ]
  },
  {
   "cell_type": "code",
   "execution_count": 32,
   "id": "32b7b7be",
   "metadata": {},
   "outputs": [],
   "source": [
    "d3=device_list[2]\n",
    "\n",
    "amt_deg=10\n",
    "pvt.call(pvt_buffer)\n",
    "device2.get_axis(1).move_absolute(amt_deg, Units.NATIVE, velocity=amt_deg/3.0, wait_until_idle=False)\n",
    "#d3.get_axis(1).move_absolute(amt_deg, Units.ANGLE_DEGREES, velocity=amt_deg/3.0, wait_until_idle=False)\n",
    "#,wait_until_idle=False)"
   ]
  },
  {
   "cell_type": "code",
   "execution_count": 13,
   "id": "36e1a3d5",
   "metadata": {},
   "outputs": [
    {
     "data": {
      "text/plain": [
       "[None, None, None]"
      ]
     },
     "execution_count": 13,
     "metadata": {},
     "output_type": "execute_result"
    }
   ],
   "source": [
    "[device1.get_axis(n).home() for n in [1,2,3]]"
   ]
  },
  {
   "cell_type": "code",
   "execution_count": 14,
   "id": "3d1da2d7",
   "metadata": {},
   "outputs": [],
   "source": [
    "axs=[device1.get_axis(n) for n in [1,2,3]]"
   ]
  },
  {
   "cell_type": "code",
   "execution_count": 17,
   "id": "91d94990",
   "metadata": {},
   "outputs": [],
   "source": [
    "axs[0].move_absolute(0)\n",
    "axs[1].move_absolute(40000)\n",
    "axs[2].move_absolute(20000)"
   ]
  },
  {
   "cell_type": "code",
   "execution_count": 19,
   "id": "61c7eddc",
   "metadata": {},
   "outputs": [
    {
     "ename": "NameError",
     "evalue": "name 'ax1' is not defined",
     "output_type": "error",
     "traceback": [
      "\u001b[1;31m---------------------------------------------------------------------------\u001b[0m",
      "\u001b[1;31mNameError\u001b[0m                                 Traceback (most recent call last)",
      "Cell \u001b[1;32mIn[19], line 1\u001b[0m\n\u001b[1;32m----> 1\u001b[0m \u001b[43max1\u001b[49m\u001b[38;5;241m.\u001b[39mhome()\n\u001b[0;32m      2\u001b[0m ax2\u001b[38;5;241m.\u001b[39mhome()\n\u001b[0;32m      3\u001b[0m ax3\u001b[38;5;241m.\u001b[39mhome()\n",
      "\u001b[1;31mNameError\u001b[0m: name 'ax1' is not defined"
     ]
    }
   ],
   "source": [
    "ax1.home()\n",
    "ax2.home()\n",
    "ax3.home()"
   ]
  },
  {
   "cell_type": "code",
   "execution_count": 246,
   "id": "182decd2",
   "metadata": {},
   "outputs": [
    {
     "data": {
      "text/plain": [
       "[20157.0, 17809.0, 10.0]"
      ]
     },
     "execution_count": 246,
     "metadata": {},
     "output_type": "execute_result"
    }
   ],
   "source": [
    "[ax1.get_position() for ax1 in axs]"
   ]
  },
  {
   "cell_type": "code",
   "execution_count": 4,
   "id": "6d2e4dfe",
   "metadata": {},
   "outputs": [
    {
     "data": {
      "text/plain": [
       "'{\"context\":{\"v\":3,\"type\":\"peripheral\",\"fw\":{\"major\":7,\"minor\":33,\"build\":14091}},\"axis\":{\"peripheralId\":\"70131\",\"serial\":\"112556\",\"settings\":{\"cloop.continuous.enable\":\"0\",\"cloop.displace.tolerance\":\"128\",\"cloop.enable\":\"1\",\"cloop.recovery.enable\":\"0\",\"cloop.stall.action\":\"0\",\"cloop.stall.detect.mode\":\"0\",\"cloop.stall.tolerance\":\"512\",\"cloop.timeout\":\"100\",\"driver.current.hold\":\"35\",\"driver.current.run\":\"70\",\"ictrl.advance.a\":\"0.000000000\",\"ictrl.advance.offset\":\"4096.000000000\",\"ictrl.afcff.inductance\":\"0.088000000\",\"ictrl.afcff.ke\":\"7.781229568\",\"ictrl.afcff.ki\":\"0.000000000\",\"ictrl.afcff.max\":\"48000.000851968\",\"ictrl.afcff.ss\":\"0.000000000\",\"ictrl.afcff.ss.max\":\"0.999899840\",\"ictrl.ff.kd\":\"0.088000000\",\"ictrl.ff.kp\":\"0.000999999\",\"ictrl.gain.coldmult\":\"0.299999968\",\"ictrl.pi.ki\":\"0.000028998\",\"ictrl.pi.kp\":\"0.011596000\",\"ictrl.type\":\"6\",\"knob.dir\":\"0\",\"knob.distance\":\"640\",\"knob.enable\":\"1\",\"knob.maxspeed\":\"153600\",\"knob.mode\":\"0\",\"knob.speedprofile\":\"2\",\"limit.approach.maxspeed\":\"153600\",\"limit.detect.decelonly\":\"820\",\"limit.detect.maxspeed\":\"19200\",\"limit.home.action\":\"2\",\"limit.home.offset\":\"0\",\"limit.home.posupdate\":\"0\",\"limit.home.preset\":\"0\",\"limit.max\":\"154202\",\"limit.min\":\"0\",\"maxspeed\":\"153600\",\"motion.accel.ramptime\":\"0.0\",\"motion.accelonly\":\"205\",\"motion.decelonly\":\"205\",\"motion.index.dist\":\"64\",\"resolution\":\"64\"},\"storedPositions\":{\"1\":0,\"10\":0,\"11\":0,\"12\":0,\"13\":0,\"14\":0,\"15\":0,\"16\":0,\"2\":0,\"3\":0,\"4\":0,\"5\":0,\"6\":0,\"7\":0,\"8\":0,\"9\":0}}}'"
      ]
     },
     "execution_count": 4,
     "metadata": {},
     "output_type": "execute_result"
    }
   ],
   "source": [
    "ax1=device1.get_axis(1)\n",
    "ax1.get_state()"
   ]
  },
  {
   "cell_type": "code",
   "execution_count": 7,
   "id": "30b7010e",
   "metadata": {},
   "outputs": [
    {
     "name": "stdout",
     "output_type": "stream",
     "text": [
      "{\"context\":{\"v\":3,\"type\":\"peripheral\",\"fw\":{\"major\":7,\"minor\":33,\"build\":14091}},\"axis\":{\"peripheralId\":\"70134\",\"serial\":\"112555\",\"settings\":{\"cloop.continuous.enable\":\"0\",\"cloop.displace.tolerance\":\"128\",\"cloop.enable\":\"1\",\"cloop.recovery.enable\":\"0\",\"cloop.stall.action\":\"0\",\"cloop.stall.detect.mode\":\"0\",\"cloop.stall.tolerance\":\"512\",\"cloop.timeout\":\"100\",\"driver.current.hold\":\"35\",\"driver.current.run\":\"70\",\"ictrl.advance.a\":\"0.000000000\",\"ictrl.advance.offset\":\"4096.000000000\",\"ictrl.afcff.inductance\":\"0.088000000\",\"ictrl.afcff.ke\":\"7.781229568\",\"ictrl.afcff.ki\":\"0.000000000\",\"ictrl.afcff.max\":\"48000.000851968\",\"ictrl.afcff.ss\":\"0.000000000\",\"ictrl.afcff.ss.max\":\"0.999899840\",\"ictrl.ff.kd\":\"0.088000000\",\"ictrl.ff.kp\":\"0.000999999\",\"ictrl.gain.coldmult\":\"0.299999968\",\"ictrl.pi.ki\":\"0.000028998\",\"ictrl.pi.kp\":\"0.011596000\",\"ictrl.type\":\"6\",\"knob.dir\":\"0\",\"knob.distance\":\"640\",\"knob.enable\":\"1\",\"knob.maxspeed\":\"153600\",\"knob.mode\":\"0\",\"knob.speedprofile\":\"2\",\"limit.approach.maxspeed\":\"153600\",\"limit.detect.decelonly\":\"820\",\"limit.detect.maxspeed\":\"19200\",\"limit.home.action\":\"2\",\"limit.home.offset\":\"0\",\"limit.home.posupdate\":\"0\",\"limit.home.preset\":\"0\",\"limit.max\":\"305381\",\"limit.min\":\"0\",\"maxspeed\":\"153600\",\"motion.accel.ramptime\":\"0.0\",\"motion.accelonly\":\"205\",\"motion.decelonly\":\"205\",\"motion.index.dist\":\"64\",\"resolution\":\"64\"},\"storedPositions\":{\"1\":0,\"10\":0,\"11\":0,\"12\":0,\"13\":0,\"14\":0,\"15\":0,\"16\":0,\"2\":0,\"3\":0,\"4\":0,\"5\":0,\"6\":0,\"7\":0,\"8\":0,\"9\":0}}}\n"
     ]
    }
   ],
   "source": [
    "ax3=device1.get_axis(3)\n",
    "print( ax3.get_state() )\n"
   ]
  },
  {
   "cell_type": "code",
   "execution_count": 178,
   "id": "1ac7ff09",
   "metadata": {},
   "outputs": [],
   "source": [
    "ax3.home()"
   ]
  },
  {
   "cell_type": "code",
   "execution_count": 180,
   "id": "c84d45fd",
   "metadata": {},
   "outputs": [],
   "source": [
    "ax3.move_absolute(10)"
   ]
  },
  {
   "cell_type": "code",
   "execution_count": 18,
   "id": "738fb83f",
   "metadata": {},
   "outputs": [
    {
     "data": {
      "text/plain": [
       "Axis 3 (LSQ150B-E01T3A) -> Device 1 SN: 112052 (X-MCC3 (rev 2/3)) -> Connection 1 (ASCII Serial port: COM4)"
      ]
     },
     "execution_count": 18,
     "metadata": {},
     "output_type": "execute_result"
    }
   ],
   "source": [
    "device1.get_axis(3)"
   ]
  },
  {
   "cell_type": "code",
   "execution_count": null,
   "id": "a936e318",
   "metadata": {},
   "outputs": [],
   "source": []
  }
 ],
 "metadata": {
  "kernelspec": {
   "display_name": "Python 3 (ipykernel)",
   "language": "python",
   "name": "python3"
  },
  "language_info": {
   "codemirror_mode": {
    "name": "ipython",
    "version": 3
   },
   "file_extension": ".py",
   "mimetype": "text/x-python",
   "name": "python",
   "nbconvert_exporter": "python",
   "pygments_lexer": "ipython3",
   "version": "3.10.8"
  }
 },
 "nbformat": 4,
 "nbformat_minor": 5
}
