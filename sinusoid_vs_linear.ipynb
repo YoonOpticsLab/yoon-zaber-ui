{
 "cells": [
  {
   "cell_type": "code",
   "execution_count": null,
   "id": "258974f2",
   "metadata": {},
   "outputs": [],
   "source": [
    "%pylab inline"
   ]
  },
  {
   "cell_type": "code",
   "execution_count": null,
   "id": "e7280bcf",
   "metadata": {},
   "outputs": [],
   "source": []
  },
  {
   "cell_type": "code",
   "execution_count": null,
   "id": "c7b45643",
   "metadata": {},
   "outputs": [],
   "source": [
    "angle=20\n",
    "\n",
    "x=np.linspace(-angle,angle)\n",
    "\n",
    "mult=1\n",
    "x2=np.array( [x[0],x[-1]] )\n",
    "plt.plot( x2, np.sin(x2/180.0 * np.pi) * mult, 'o-')\n",
    "\n",
    "plt.plot( x , np.sin(x /180.0 * np.pi) * mult, label='sin')\n",
    "plt.legend()"
   ]
  },
  {
   "cell_type": "code",
   "execution_count": null,
   "id": "ba0d9183",
   "metadata": {},
   "outputs": [],
   "source": [
    "x2"
   ]
  },
  {
   "cell_type": "code",
   "execution_count": null,
   "id": "9709a6a4",
   "metadata": {},
   "outputs": [],
   "source": []
  }
 ],
 "metadata": {
  "kernelspec": {
   "display_name": "Python 3 (ipykernel)",
   "language": "python",
   "name": "python3"
  },
  "language_info": {
   "codemirror_mode": {
    "name": "ipython",
    "version": 3
   },
   "file_extension": ".py",
   "mimetype": "text/x-python",
   "name": "python",
   "nbconvert_exporter": "python",
   "pygments_lexer": "ipython3",
   "version": "3.10.12"
  }
 },
 "nbformat": 4,
 "nbformat_minor": 5
}
